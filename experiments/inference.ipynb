{
 "cells": [
  {
   "cell_type": "code",
   "execution_count": 1,
   "id": "aea380e0",
   "metadata": {},
   "outputs": [],
   "source": [
    "import lightning as L\n",
    "from lightning.pytorch.callbacks import RichProgressBar\n",
    "from lightning.pytorch.callbacks.progress.rich_progress import RichProgressBarTheme\n",
    "\n",
    "from bridges import AbsorbingBridgeMatching\n",
    "from utils import DataloaderModule\n",
    "from jetdata import JetDataclass\n",
    "\n",
    "progress_bar = RichProgressBar(\n",
    "    theme=RichProgressBarTheme(\n",
    "        description=\"green_yellow\",\n",
    "        progress_bar=\"green1\",\n",
    "        progress_bar_finished=\"green1\",\n",
    "        progress_bar_pulse=\"#6206E0\",\n",
    "        batch_progress=\"green_yellow\",\n",
    "        time=\"grey82\",\n",
    "        processing_speed=\"grey82\",\n",
    "        metrics=\"grey82\",\n",
    "        metrics_text_delimiter=\"\\n\",\n",
    "        metrics_format=\".3e\",\n",
    "    )\n",
    ")"
   ]
  },
  {
   "cell_type": "code",
   "execution_count": 2,
   "id": "3b22fc75",
   "metadata": {},
   "outputs": [
    {
     "name": "stderr",
     "output_type": "stream",
     "text": [
      "/home/df630/.conda/envs/conditional_rate_matching/lib/python3.10/site-packages/torch/nn/utils/weight_norm.py:30: UserWarning: torch.nn.utils.weight_norm is deprecated in favor of torch.nn.utils.parametrizations.weight_norm.\n",
      "  warnings.warn(\"torch.nn.utils.weight_norm is deprecated in favor of torch.nn.utils.parametrizations.weight_norm.\")\n"
     ]
    }
   ],
   "source": [
    "\n",
    "path = \"/home/df630/Multimodal-Bridges/lightning_logs/version_68\"\n",
    "ckpt = \"/checkpoints/epoch=99-step=5600.ckpt\"\n",
    "\n",
    "abm = AbsorbingBridgeMatching.load_from_checkpoint(path + ckpt)\n",
    "\n",
    "config = abm.hparams.config\n",
    "config.experiment.work_dir = path\n",
    "config.experiment.run_name = \"aoj_generation\"\n",
    "config.data.target.path = \"/home/df630/CMB/data/AOJ/2016H_job4.h5\"\n",
    "config.data.target.params.num_jets = 10_000\n",
    "config.train.data_split_frac = [1.0, 0.0, 0.0]"
   ]
  },
  {
   "cell_type": "code",
   "execution_count": 3,
   "id": "e726ad17",
   "metadata": {},
   "outputs": [
    {
     "name": "stderr",
     "output_type": "stream",
     "text": [
      "/home/df630/Multimodal-Bridges/utils.py:393: UserWarning: To copy construct from a tensor, it is recommended to use sourceTensor.clone().detach() or sourceTensor.clone().detach().requires_grad_(True), rather than torch.tensor(sourceTensor).\n",
      "  discrete = torch.tensor(discrete).long()\n",
      "GPU available: True (cuda), used: True\n",
      "TPU available: False, using: 0 TPU cores\n",
      "HPU available: False, using: 0 HPUs\n"
     ]
    },
    {
     "name": "stdout",
     "output_type": "stream",
     "text": [
      "INFO: building dataloaders...\n",
      "INFO: train/val/test split ratios: 1.0/0.0/0.0\n",
      "INFO: train size: 10000, validation size: 0, testing sizes: 0\n"
     ]
    }
   ],
   "source": [
    "jets = JetDataclass(config=config)\n",
    "jets.preprocess()\n",
    "\n",
    "dataloader = DataloaderModule(config=config, dataclass=jets)\n",
    "\n",
    "model = L.Trainer(\n",
    "    log_every_n_steps=5,\n",
    "    accelerator=\"gpu\",\n",
    "    devices=[3],\n",
    "    callbacks=[progress_bar],\n",
    ")"
   ]
  },
  {
   "cell_type": "code",
   "execution_count": 4,
   "id": "b06126fd",
   "metadata": {},
   "outputs": [
    {
     "name": "stderr",
     "output_type": "stream",
     "text": [
      "LOCAL_RANK: 0 - CUDA_VISIBLE_DEVICES: [0,1,2,3]\n"
     ]
    },
    {
     "data": {
      "application/vnd.jupyter.widget-view+json": {
       "model_id": "2919d8a589e64ae0a1df4ed53d51ed7b",
       "version_major": 2,
       "version_minor": 0
      },
      "text/plain": [
       "Output()"
      ]
     },
     "metadata": {},
     "output_type": "display_data"
    },
    {
     "name": "stderr",
     "output_type": "stream",
     "text": [
      "/home/df630/.conda/envs/conditional_rate_matching/lib/python3.10/site-packages/lightning/pytorch/trainer/connectors/data_connector.py:475: Your `predict_dataloader`'s sampler has shuffling enabled, it is strongly recommended that you turn shuffling off for val/test dataloaders.\n",
      "/home/df630/.conda/envs/conditional_rate_matching/lib/python3.10/site-packages/lightning/pytorch/trainer/connectors/data_connector.py:424: The 'predict_dataloader' does not have many workers which may be a bottleneck. Consider increasing the value of the `num_workers` argument` to `num_workers=19` in the `DataLoader` to improve performance.\n"
     ]
    },
    {
     "data": {
      "text/html": [
       "<pre style=\"white-space:pre;overflow-x:auto;line-height:normal;font-family:Menlo,'DejaVu Sans Mono',consolas,'Courier New',monospace\"></pre>\n"
      ],
      "text/plain": []
     },
     "metadata": {},
     "output_type": "display_data"
    }
   ],
   "source": [
    "from jetdata import BridgeState, ParticleClouds\n",
    "\n",
    "generation = model.predict(abm, dataloaders=dataloader.train)\n",
    "sample = BridgeState.cat(generation)\n",
    "gen_sample = ParticleClouds(dataset=sample)"
   ]
  },
  {
   "cell_type": "code",
   "execution_count": 5,
   "id": "84787d73",
   "metadata": {},
   "outputs": [],
   "source": [
    "gen_sample.postprocess(\n",
    "    input_continuous=config.data.target.preprocess.continuous,\n",
    "    input_discrete=config.data.target.preprocess.discrete,\n",
    "    stats=config.data.target.preprocess.stats,\n",
    ")\n",
    "\n",
    "jets.postprocess()\n"
   ]
  },
  {
   "cell_type": "code",
   "execution_count": 10,
   "id": "f627583f",
   "metadata": {},
   "outputs": [
    {
     "data": {
      "text/plain": [
       "(torch.Size([1000, 128, 3]),\n",
       " torch.Size([1000, 128, 6]),\n",
       " torch.Size([1000, 128, 1]))"
      ]
     },
     "execution_count": 10,
     "metadata": {},
     "output_type": "execute_result"
    }
   ],
   "source": [
    "gen_sample.continuous.shape, gen_sample.discrete.shape, gen_sample.mask.shape"
   ]
  },
  {
   "cell_type": "code",
   "execution_count": 6,
   "id": "34a42bbc",
   "metadata": {},
   "outputs": [
    {
     "data": {
      "image/png": "[encoded data removed]",
      "text/plain": [
       "<Figure size 300x300 with 1 Axes>"
      ]
     },
     "metadata": {},
     "output_type": "display_data"
    }
   ],
   "source": [
    "import matplotlib.pyplot as plt\n",
    "\n",
    "fig, ax = plt.subplots(1, 1, figsize=(3, 3))\n",
    "gen_sample.histplot(\n",
    "    feature=\"pt\", fill=False, log_scale=(False, True), ax=ax, stat=\"density\", binrange=(0, 200), binwidth=5\n",
    ")  # momentum distrbution\n",
    "\n",
    "jets.target.histplot(\n",
    "    feature=\"pt\", fill=False, log_scale=(False, True), ax=ax, stat=\"density\", binrange=(0, 200), binwidth=5\n",
    ")  # momentum distrbution\n",
    "plt.show()\n"
   ]
  },
  {
   "cell_type": "code",
   "execution_count": 7,
   "id": "8a743d79",
   "metadata": {},
   "outputs": [
    {
     "data": {
      "image/png": "[encoded data removed]",
      "text/plain": [
       "<Figure size 300x300 with 1 Axes>"
      ]
     },
     "metadata": {},
     "output_type": "display_data"
    }
   ],
   "source": [
    "\n",
    "fig, ax = plt.subplots(1, 1, figsize=(3, 3))\n",
    "gen_sample.histplot(\n",
    "    feature=\"eta_rel\", fill=False, log_scale=(False, True), ax=ax, stat=\"density\", binrange=(-2, 2), binwidth=0.05\n",
    ")  # momentum distrbution\n",
    "\n",
    "jets.target.histplot(\n",
    "    feature=\"eta_rel\", fill=False, log_scale=(False, True), ax=ax, stat=\"density\", binrange=(-2,2), binwidth=0.05\n",
    ")  # momentum distrbution\n",
    "plt.show()"
   ]
  }
 ],
 "metadata": {
  "kernelspec": {
   "display_name": "Python 3 (ipykernel)",
   "language": "python",
   "name": "python3"
  },
  "language_info": {
   "codemirror_mode": {
    "name": "ipython",
    "version": 3
   },
   "file_extension": ".py",
   "mimetype": "text/x-python",
   "name": "python",
   "nbconvert_exporter": "python",
   "pygments_lexer": "ipython3",
   "version": "3.10.9"
  }
 },
 "nbformat": 4,
 "nbformat_minor": 5
}
