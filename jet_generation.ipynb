{
 "cells": [
  {
   "cell_type": "markdown",
   "id": "3326da6f",
   "metadata": {},
   "source": [
    "# 1. Jet Data"
   ]
  },
  {
   "cell_type": "code",
   "execution_count": 1,
   "id": "8373ee76",
   "metadata": {},
   "outputs": [
    {
     "name": "stdout",
     "output_type": "stream",
     "text": [
      "INFO: created experiment instance GaussNoise_to_AspenOpenJets_MultiModalEPiC_2024.12.17_17h04_5292\n"
     ]
    },
    {
     "name": "stderr",
     "output_type": "stream",
     "text": [
      "/home/df630/Multimodal-Bridges/utils.py:511: UserWarning: To copy construct from a tensor, it is recommended to use sourceTensor.clone().detach() or sourceTensor.clone().detach().requires_grad_(True), rather than torch.tensor(sourceTensor).\n",
      "  discrete = torch.tensor(discrete).long()\n"
     ]
    }
   ],
   "source": [
    "from utils import Configs\n",
    "from jetdata import JetDataclass\n",
    "\n",
    "config = Configs(\"configs.yaml\")\n",
    "jets = JetDataclass(config=config)\n"
   ]
  },
  {
   "cell_type": "markdown",
   "id": "69279944",
   "metadata": {},
   "source": [
    "### inspect data"
   ]
  },
  {
   "cell_type": "code",
   "execution_count": 2,
   "id": "ce324ed3",
   "metadata": {},
   "outputs": [
    {
     "name": "stderr",
     "output_type": "stream",
     "text": [
      "/home/df630/.conda/envs/conditional_rate_matching/lib/python3.10/site-packages/matplotlib-3.8.1-py3.10-linux-x86_64.egg/matplotlib/collections.py:996: RuntimeWarning: invalid value encountered in sqrt\n",
      "  scale = np.sqrt(self._sizes) * dpi / 72.0 * self._factor\n"
     ]
    },
    {
     "data": {
      "image/png": "[encoded data removed]",
      "text/plain": [
       "<Figure size 300x300 with 1 Axes>"
      ]
     },
     "metadata": {},
     "output_type": "display_data"
    },
    {
     "data": {
      "image/png": "[encoded data removed]",
      "text/plain": [
       "<Figure size 300x300 with 1 Axes>"
      ]
     },
     "metadata": {},
     "output_type": "display_data"
    }
   ],
   "source": [
    "jets.source.display_cloud(idx=0, scale_marker=10.0)\n",
    "jets.target.display_cloud(idx=9, scale_marker=5.0)\n"
   ]
  },
  {
   "cell_type": "code",
   "execution_count": null,
   "id": "f640b349",
   "metadata": {},
   "outputs": [],
   "source": [
    "(\n",
    "    jets.source.continuous.shape,\n",
    "    jets.target.continuous.shape,\n",
    "    jets.source.discrete.shape,\n",
    "    jets.target.discrete.shape,\n",
    "    jets.source.mask.shape,\n",
    "    jets.target.mask.shape,\n",
    ")"
   ]
  },
  {
   "cell_type": "code",
   "execution_count": null,
   "id": "89539a15",
   "metadata": {},
   "outputs": [],
   "source": [
    "import seaborn as sns\n",
    "import matplotlib.pyplot as plt\n",
    "\n",
    "fig, ax = plt.subplots(1, 1, figsize=(3, 3))\n",
    "sns.histplot(\n",
    "    jets.source.multiplicity,\n",
    "    element=\"step\",\n",
    "    fill=False,\n",
    "    discrete=True,\n",
    "    lw=0.75,\n",
    "    stat=\"density\",\n",
    "    color=\"r\",\n",
    "    log_scale=(False, False),\n",
    "    ax=ax,\n",
    "    label=\"source\",\n",
    ")\n",
    "sns.histplot(\n",
    "    jets.target.multiplicity,\n",
    "    element=\"step\",\n",
    "    fill=False,\n",
    "    discrete=True,\n",
    "    lw=0.75,\n",
    "    stat=\"density\",\n",
    "    log_scale=(False, False),\n",
    "    ax=ax,\n",
    "    label=\"target\",\n",
    ")\n",
    "ax.legend(fontsize=6)\n",
    "ax.set_xlabel(\"Particle Multiplicity\")\n",
    "plt.show()"
   ]
  },
  {
   "cell_type": "markdown",
   "id": "ad3bbe5b",
   "metadata": {},
   "source": [
    "# 2. Absorbing Bridge Matching\n",
    "Permutation equivariant architecture for point clouds"
   ]
  },
  {
   "cell_type": "code",
   "execution_count": 2,
   "id": "a0421dae",
   "metadata": {},
   "outputs": [],
   "source": [
    "import torch\n",
    "import lightning as L\n",
    "from torch import nn\n",
    "from dataclasses import dataclass\n",
    "\n",
    "from architecture import MultiModalEPiC\n",
    "from bridges import LinearUniformBridge, TelegraphBridge\n",
    "\n",
    "\n",
    "@dataclass\n",
    "class BridgeState:\n",
    "    time: torch.Tensor = None\n",
    "    continuous: torch.Tensor = None\n",
    "    discrete: torch.Tensor = None\n",
    "    absorbing: torch.Tensor = None\n",
    "\n",
    "    def append(self, state):\n",
    "        return BridgeState(\n",
    "            time=torch.cat([self.time, state.time], dim=0),\n",
    "            continuous=torch.cat([self.continuous, state.continuous], dim=0),\n",
    "            discrete=torch.cat([self.discrete, state.discrete], dim=0),\n",
    "            absorbing=torch.cat([self.absorbing, state.absorbing], dim=0),\n",
    "        )\n",
    "\n",
    "@dataclass\n",
    "class OutputHeads:\n",
    "    continuous: torch.Tensor = None\n",
    "    discrete: torch.Tensor = None\n",
    "    absorbing: torch.Tensor = None\n",
    "\n",
    "class AbsorbingBridgeMatching(L.LightningModule):\n",
    "    \"\"\"Model for hybrid data with varying size\"\"\"\n",
    "\n",
    "    def __init__(self, config):\n",
    "        super().__init__()\n",
    "        self.config = config\n",
    "        self.vocab_size = config.data.vocab_size.features\n",
    "\n",
    "        self.encoder = MultiModalEPiC(config)\n",
    "        self.bridge_continuous = LinearUniformBridge(config)\n",
    "        self.bridge_discrete = TelegraphBridge(config)\n",
    "        self.bridge_absorbing = TelegraphBridge(config)\n",
    "        self.loss_continuous_fn = nn.MSELoss(reduction=\"none\")\n",
    "        self.loss_discrete_fn = nn.CrossEntropyLoss(reduction=\"none\")\n",
    "\n",
    "        self.save_hyperparameters()\n",
    "\n",
    "    def forward(self, state, batch):\n",
    "        continuous, discrete, absorbing = self.encoder(\n",
    "            t=state.time,\n",
    "            x=state.continuous,\n",
    "            k=state.discrete,\n",
    "            mask=state.absorbing,\n",
    "            context_continuous=getattr(batch, \"context_continuous\", None),\n",
    "            context_discrete=getattr(batch, \"context_discrete\", None),\n",
    "        )\n",
    "        return OutputHeads(continuous, discrete, absorbing)\n",
    "\n",
    "    def sample_bridges(self, batch):\n",
    "        \"\"\"sample stochastic bridges\"\"\"\n",
    "        t = torch.rand(\n",
    "            batch.target_continuous.shape[0], device=batch.target_continuous.device\n",
    "        ).type_as(batch.target_continuous)\n",
    "\n",
    "        time = self.reshape_time(t, batch.target_continuous)\n",
    "\n",
    "        continuous = self.bridge_continuous.sample(\n",
    "            time, batch.source_continuous, batch.target_continuous\n",
    "        )\n",
    "\n",
    "        discrete = self.bridge_discrete.sample(\n",
    "            time, batch.source_discrete, batch.target_discrete\n",
    "        )\n",
    "\n",
    "        absorbing = self.bridge_absorbing.sample(\n",
    "            time, batch.target_mask, batch.target_mask\n",
    "        )\n",
    "        return BridgeState(time, continuous, discrete, absorbing)\n",
    "\n",
    "    def loss_continuous(self, heads: OutputHeads, state: BridgeState, batch):\n",
    "        \"\"\"mean square error loss for velocity field\"\"\"\n",
    "        vector = heads.continuous\n",
    "        mask = heads.absorbing\n",
    "\n",
    "        ut = self.bridge_continuous.drift(\n",
    "            t=state.time,\n",
    "            x=state.continuous,\n",
    "            x0=batch.source_continuous,\n",
    "            x1=batch.target_continuous,\n",
    "        ).to(vector.device)\n",
    "        loss_mse = self.loss_continuous_fn(vector, ut) * mask\n",
    "        return loss_mse.sum() / mask.sum()\n",
    "\n",
    "    def loss_discrete(self, heads: OutputHeads, batch):\n",
    "        \"\"\"cross-entropy loss for discrete state classifier\"\"\"\n",
    "        logits = heads.discrete\n",
    "        targets = batch.target_discrete\n",
    "        mask = heads.absorbing\n",
    "        logits = heads.discrete.reshape(-1, self.vocab_size)\n",
    "        targets = batch.target_discrete.reshape(-1).long()\n",
    "        targets = targets.to(logits.device)\n",
    "        mask = mask.reshape(-1)\n",
    "        loss_ce = self.loss_discrete_fn(logits, targets) * mask\n",
    "        return loss_ce.sum() / mask.sum()\n",
    "\n",
    "    def reshape_time(self, t, x):\n",
    "        if isinstance(t, (float, int)):\n",
    "            return t\n",
    "        else:\n",
    "            return t.reshape(-1, *([1] * (x.dim() - 1)))\n",
    "\n",
    "    ###########################\n",
    "    ### Lightning functions ###\n",
    "    ###########################\n",
    "\n",
    "    def training_step(self, batch, batch_idx):\n",
    "        state = self.sample_bridges(batch)\n",
    "        heads = self.forward(state, batch)\n",
    "        loss_continous = self.loss_continuous(heads, state, batch)\n",
    "        loss_discrete = self.loss_discrete(heads, batch)\n",
    "        loss = loss_continous + loss_discrete\n",
    "        self.log(\"train_loss\", loss, on_step=True, on_epoch=True)\n",
    "        return loss\n",
    "\n",
    "    def validation_step(self, batch, batch_idx):\n",
    "        state = self.sample_bridges(batch)\n",
    "        heads = self.forward(state, batch)\n",
    "        loss_continous = self.loss_continuous(heads, state, batch)\n",
    "        loss_discrete = self.loss_discrete(heads, batch)\n",
    "        loss = loss_continous + loss_discrete\n",
    "        self.log(\"val_loss\", loss, on_step=True, on_epoch=True)\n",
    "        return loss\n",
    "\n",
    "    def predict_step(self, batch, batch_idx):\n",
    "        \"\"\"generate target data from source data using trained dynamics\"\"\"\n",
    "        time_steps = torch.linspace(\n",
    "            0.0, 1.0 - self.config.pipeline.time_eps, self.config.pipeline.num_timesteps\n",
    "        )\n",
    "        delta_t = (time_steps[-1] - time_steps[0]) / (len(time_steps) - 1)\n",
    "        state = BridgeState(\n",
    "            time_steps[0],\n",
    "            batch.source_continuous,\n",
    "            batch.source_discrete,\n",
    "            batch.source_mask,\n",
    "        )\n",
    "        for time in time_steps[1:]:\n",
    "            state.time = torch.full(\n",
    "                (len(batch[0]), 1), time.item(), device=batch[0].device\n",
    "            )\n",
    "            heads = self.forward(state, batch)\n",
    "            state = self.bridge_continuous.solver_step(state, heads, delta_t)\n",
    "            state = self.bridge_discrete.solver_step(state, heads, delta_t)\n",
    "        return state\n",
    "\n",
    "    def configure_optimizers(self):\n",
    "        optimizer = torch.optim.Adam(\n",
    "            self.parameters(), lr=self.config.train.optimizer.params.lr\n",
    "        )\n",
    "        scheduler = torch.optim.lr_scheduler.CosineAnnealingLR(\n",
    "            optimizer,\n",
    "            T_max=self.config.train.scheduler.params.T_max,  # Adjust as needed\n",
    "            eta_min=self.config.train.scheduler.params.eta_min,  # Adjust as needed\n",
    "        )\n",
    "        return [optimizer], [scheduler]\n"
   ]
  },
  {
   "cell_type": "code",
   "execution_count": 3,
   "id": "7184170e",
   "metadata": {},
   "outputs": [
    {
     "name": "stdout",
     "output_type": "stream",
     "text": [
      "INFO: building dataloaders...\n",
      "INFO: train/val/test split ratios: 0.7/0.1/0.2\n",
      "INFO: train size: 50122, validation size: 7160, testing sizes: 14322\n"
     ]
    },
    {
     "name": "stderr",
     "output_type": "stream",
     "text": [
      "/home/df630/.conda/envs/conditional_rate_matching/lib/python3.10/site-packages/torch/nn/utils/weight_norm.py:30: UserWarning: torch.nn.utils.weight_norm is deprecated in favor of torch.nn.utils.parametrizations.weight_norm.\n",
      "  warnings.warn(\"torch.nn.utils.weight_norm is deprecated in favor of torch.nn.utils.parametrizations.weight_norm.\")\n"
     ]
    }
   ],
   "source": [
    "from utils import DataloaderModule\n",
    "\n",
    "jets.preprocess()\n",
    "dataloader = DataloaderModule(config=config, dataclass=jets)\n",
    "databatch = next(dataloader.train.__iter__())\n",
    "abm = AbsorbingBridgeMatching(config)\n"
   ]
  },
  {
   "cell_type": "code",
   "execution_count": 4,
   "id": "e354df3c",
   "metadata": {},
   "outputs": [
    {
     "name": "stderr",
     "output_type": "stream",
     "text": [
      "GPU available: True (cuda), used: True\n",
      "TPU available: False, using: 0 TPU cores\n",
      "HPU available: False, using: 0 HPUs\n",
      "LOCAL_RANK: 0 - CUDA_VISIBLE_DEVICES: [0,1,2,3]\n",
      "\n",
      "  | Name               | Type             | Params | Mode \n",
      "----------------------------------------------------------------\n",
      "0 | encoder            | MultiModalEPiC   | 826 K  | train\n",
      "1 | loss_continuous_fn | MSELoss          | 0      | train\n",
      "2 | loss_discrete_fn   | CrossEntropyLoss | 0      | train\n",
      "----------------------------------------------------------------\n",
      "826 K     Trainable params\n",
      "0         Non-trainable params\n",
      "826 K     Total params\n",
      "3.305     Total estimated model params size (MB)\n",
      "70        Modules in train mode\n",
      "0         Modules in eval mode\n"
     ]
    },
    {
     "data": {
      "application/vnd.jupyter.widget-view+json": {
       "model_id": "21d7783dcd82402a883d9d834858c977",
       "version_major": 2,
       "version_minor": 0
      },
      "text/plain": [
       "Sanity Checking: |          | 0/? [00:00<?, ?it/s]"
      ]
     },
     "metadata": {},
     "output_type": "display_data"
    },
    {
     "name": "stderr",
     "output_type": "stream",
     "text": [
      "/home/df630/.conda/envs/conditional_rate_matching/lib/python3.10/site-packages/lightning/pytorch/trainer/connectors/data_connector.py:424: The 'val_dataloader' does not have many workers which may be a bottleneck. Consider increasing the value of the `num_workers` argument` to `num_workers=19` in the `DataLoader` to improve performance.\n",
      "/home/df630/.conda/envs/conditional_rate_matching/lib/python3.10/site-packages/lightning/pytorch/trainer/connectors/data_connector.py:424: The 'train_dataloader' does not have many workers which may be a bottleneck. Consider increasing the value of the `num_workers` argument` to `num_workers=19` in the `DataLoader` to improve performance.\n"
     ]
    },
    {
     "data": {
      "application/vnd.jupyter.widget-view+json": {
       "model_id": "958042844a7d4132a2fc0341a8c1cd46",
       "version_major": 2,
       "version_minor": 0
      },
      "text/plain": [
       "Training: |          | 0/? [00:00<?, ?it/s]"
      ]
     },
     "metadata": {},
     "output_type": "display_data"
    },
    {
     "data": {
      "application/vnd.jupyter.widget-view+json": {
       "model_id": "3a45ce3ef37640f197e59b48dbe82aa4",
       "version_major": 2,
       "version_minor": 0
      },
      "text/plain": [
       "Validation: |          | 0/? [00:00<?, ?it/s]"
      ]
     },
     "metadata": {},
     "output_type": "display_data"
    },
    {
     "data": {
      "application/vnd.jupyter.widget-view+json": {
       "model_id": "4844acfa127947929f307461f5f8b80a",
       "version_major": 2,
       "version_minor": 0
      },
      "text/plain": [
       "Validation: |          | 0/? [00:00<?, ?it/s]"
      ]
     },
     "metadata": {},
     "output_type": "display_data"
    },
    {
     "data": {
      "application/vnd.jupyter.widget-view+json": {
       "model_id": "d3ae65fb279443559435dbdbe59fb56b",
       "version_major": 2,
       "version_minor": 0
      },
      "text/plain": [
       "Validation: |          | 0/? [00:00<?, ?it/s]"
      ]
     },
     "metadata": {},
     "output_type": "display_data"
    },
    {
     "data": {
      "application/vnd.jupyter.widget-view+json": {
       "model_id": "fe065b8b5b494942a1cc3a4ee3e1297e",
       "version_major": 2,
       "version_minor": 0
      },
      "text/plain": [
       "Validation: |          | 0/? [00:00<?, ?it/s]"
      ]
     },
     "metadata": {},
     "output_type": "display_data"
    },
    {
     "data": {
      "application/vnd.jupyter.widget-view+json": {
       "model_id": "6df51c974abd40779bdc4fc84610f544",
       "version_major": 2,
       "version_minor": 0
      },
      "text/plain": [
       "Validation: |          | 0/? [00:00<?, ?it/s]"
      ]
     },
     "metadata": {},
     "output_type": "display_data"
    },
    {
     "data": {
      "application/vnd.jupyter.widget-view+json": {
       "model_id": "66ca6bea40dd4fa98d1debd3d4b88165",
       "version_major": 2,
       "version_minor": 0
      },
      "text/plain": [
       "Validation: |          | 0/? [00:00<?, ?it/s]"
      ]
     },
     "metadata": {},
     "output_type": "display_data"
    },
    {
     "data": {
      "application/vnd.jupyter.widget-view+json": {
       "model_id": "4f72269a2681445c91d48bac2f4675e7",
       "version_major": 2,
       "version_minor": 0
      },
      "text/plain": [
       "Validation: |          | 0/? [00:00<?, ?it/s]"
      ]
     },
     "metadata": {},
     "output_type": "display_data"
    },
    {
     "data": {
      "application/vnd.jupyter.widget-view+json": {
       "model_id": "ab9f4f6279f14679a9b6e98b94aa5654",
       "version_major": 2,
       "version_minor": 0
      },
      "text/plain": [
       "Validation: |          | 0/? [00:00<?, ?it/s]"
      ]
     },
     "metadata": {},
     "output_type": "display_data"
    },
    {
     "data": {
      "application/vnd.jupyter.widget-view+json": {
       "model_id": "2e6f338395624240986665b415625962",
       "version_major": 2,
       "version_minor": 0
      },
      "text/plain": [
       "Validation: |          | 0/? [00:00<?, ?it/s]"
      ]
     },
     "metadata": {},
     "output_type": "display_data"
    },
    {
     "data": {
      "application/vnd.jupyter.widget-view+json": {
       "model_id": "eff0deaf595143c89da70e5a8850d766",
       "version_major": 2,
       "version_minor": 0
      },
      "text/plain": [
       "Validation: |          | 0/? [00:00<?, ?it/s]"
      ]
     },
     "metadata": {},
     "output_type": "display_data"
    },
    {
     "data": {
      "application/vnd.jupyter.widget-view+json": {
       "model_id": "bc2156241d6d42058a50cdffb8802c2c",
       "version_major": 2,
       "version_minor": 0
      },
      "text/plain": [
       "Validation: |          | 0/? [00:00<?, ?it/s]"
      ]
     },
     "metadata": {},
     "output_type": "display_data"
    },
    {
     "data": {
      "application/vnd.jupyter.widget-view+json": {
       "model_id": "8b504d4fb2c24b229ed31638035404b8",
       "version_major": 2,
       "version_minor": 0
      },
      "text/plain": [
       "Validation: |          | 0/? [00:00<?, ?it/s]"
      ]
     },
     "metadata": {},
     "output_type": "display_data"
    },
    {
     "data": {
      "application/vnd.jupyter.widget-view+json": {
       "model_id": "3d0ed39b05164359bbb09ddad7ed449a",
       "version_major": 2,
       "version_minor": 0
      },
      "text/plain": [
       "Validation: |          | 0/? [00:00<?, ?it/s]"
      ]
     },
     "metadata": {},
     "output_type": "display_data"
    },
    {
     "data": {
      "application/vnd.jupyter.widget-view+json": {
       "model_id": "af3e4b24ef5b4f77996dc98ee97ef370",
       "version_major": 2,
       "version_minor": 0
      },
      "text/plain": [
       "Validation: |          | 0/? [00:00<?, ?it/s]"
      ]
     },
     "metadata": {},
     "output_type": "display_data"
    },
    {
     "data": {
      "application/vnd.jupyter.widget-view+json": {
       "model_id": "a80058fa6550472f87008bd0e0bcd043",
       "version_major": 2,
       "version_minor": 0
      },
      "text/plain": [
       "Validation: |          | 0/? [00:00<?, ?it/s]"
      ]
     },
     "metadata": {},
     "output_type": "display_data"
    },
    {
     "data": {
      "application/vnd.jupyter.widget-view+json": {
       "model_id": "a86021cd56924e96982d12b8df72504f",
       "version_major": 2,
       "version_minor": 0
      },
      "text/plain": [
       "Validation: |          | 0/? [00:00<?, ?it/s]"
      ]
     },
     "metadata": {},
     "output_type": "display_data"
    },
    {
     "data": {
      "application/vnd.jupyter.widget-view+json": {
       "model_id": "17eae36b20b045dab58f974e2ab89bb3",
       "version_major": 2,
       "version_minor": 0
      },
      "text/plain": [
       "Validation: |          | 0/? [00:00<?, ?it/s]"
      ]
     },
     "metadata": {},
     "output_type": "display_data"
    }
   ],
   "source": [
    "from lightning.pytorch import Trainer\n",
    "\n",
    "model = Trainer(\n",
    "    max_epochs=100,\n",
    "    log_every_n_steps=5,\n",
    "    accelerator=\"gpu\",\n",
    "    devices=1,\n",
    ")\n",
    "\n",
    "model.fit(abm, train_dataloaders=dataloader.train, val_dataloaders=dataloader.valid)"
   ]
  },
  {
   "cell_type": "code",
   "execution_count": 10,
   "id": "58ef0710",
   "metadata": {},
   "outputs": [
    {
     "ename": "TypeError",
     "evalue": "Trainer.predict() got an unexpected keyword argument 'accelerator'",
     "output_type": "error",
     "traceback": [
      "\u001b[0;31m---------------------------------------------------------------------------\u001b[0m",
      "\u001b[0;31mTypeError\u001b[0m                                 Traceback (most recent call last)",
      "Cell \u001b[0;32mIn[10], line 1\u001b[0m\n\u001b[0;32m----> 1\u001b[0m generation \u001b[39m=\u001b[39m model\u001b[39m.\u001b[39;49mpredict(abm, dataloaders\u001b[39m=\u001b[39;49mdataloader\u001b[39m.\u001b[39;49mtest,accelerator\u001b[39m=\u001b[39;49m\u001b[39m'\u001b[39;49m\u001b[39mcuda\u001b[39;49m\u001b[39m'\u001b[39;49m, devices\u001b[39m=\u001b[39;49m\u001b[39m1\u001b[39;49m)\n\u001b[1;32m      3\u001b[0m \u001b[39m# predictions is a list of outputs from each batch\u001b[39;00m\n\u001b[1;32m      4\u001b[0m \u001b[39m# For example, if your predict_step returns a state for each batch:\u001b[39;00m\n\u001b[1;32m      5\u001b[0m \u001b[39mfor\u001b[39;00m batch_idx, state \u001b[39min\u001b[39;00m \u001b[39menumerate\u001b[39m(generation):\n\u001b[1;32m      6\u001b[0m     \u001b[39m# Here `state` is the BridgeState returned by predict_step for that batch.\u001b[39;00m\n\u001b[1;32m      7\u001b[0m     \u001b[39m# You can now run evaluation metrics or further processing.\u001b[39;00m\n\u001b[1;32m      8\u001b[0m     \u001b[39m# `state.continuous`, `state.discrete`, etc. are now accessible.\u001b[39;00m\n",
      "\u001b[0;31mTypeError\u001b[0m: Trainer.predict() got an unexpected keyword argument 'accelerator'"
     ]
    }
   ],
   "source": [
    "generation = model.predict(\n",
    "    abm, dataloaders=dataloader.test\n",
    ")\n",
    "\n",
    "# predictions is a list of outputs from each batch\n",
    "# For example, if your predict_step returns a state for each batch:\n",
    "for batch_idx, state in enumerate(generation):\n",
    "    # Here `state` is the BridgeState returned by predict_step for that batch.\n",
    "    # You can now run evaluation metrics or further processing.\n",
    "    # `state.continuous`, `state.discrete`, etc. are now accessible.\n",
    "    print(f\"Batch {batch_idx} generated data:\", state.continuous.shape)"
   ]
  },
  {
   "cell_type": "code",
   "execution_count": 9,
   "id": "f52f54fd",
   "metadata": {},
   "outputs": [
    {
     "data": {
      "text/plain": [
       "14322"
      ]
     },
     "execution_count": 9,
     "metadata": {},
     "output_type": "execute_result"
    }
   ],
   "source": [
    "len(dataloader.test.dataset)"
   ]
  },
  {
   "cell_type": "code",
   "execution_count": null,
   "id": "694a57cc",
   "metadata": {},
   "outputs": [],
   "source": []
  }
 ],
 "metadata": {
  "kernelspec": {
   "display_name": "Python 3 (ipykernel)",
   "language": "python",
   "name": "python3"
  },
  "language_info": {
   "codemirror_mode": {
    "name": "ipython",
    "version": 3
   },
   "file_extension": ".py",
   "mimetype": "text/x-python",
   "name": "python",
   "nbconvert_exporter": "python",
   "pygments_lexer": "ipython3",
   "version": "3.10.9"
  }
 },
 "nbformat": 4,
 "nbformat_minor": 5
}
