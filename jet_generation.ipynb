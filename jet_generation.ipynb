{
 "cells": [
  {
   "cell_type": "markdown",
   "id": "3326da6f",
   "metadata": {},
   "source": [
    "# 1. Jet Data"
   ]
  },
  {
   "cell_type": "code",
   "execution_count": 1,
   "id": "8373ee76",
   "metadata": {},
   "outputs": [
    {
     "name": "stdout",
     "output_type": "stream",
     "text": [
      "INFO: created experiment instance GaussNoise_to_AspenOpenJets_MultiModalEPiC_2024.12.18_00h10_1121\n"
     ]
    },
    {
     "name": "stderr",
     "output_type": "stream",
     "text": [
      "/home/df630/Multimodal-Bridges/utils.py:511: UserWarning: To copy construct from a tensor, it is recommended to use sourceTensor.clone().detach() or sourceTensor.clone().detach().requires_grad_(True), rather than torch.tensor(sourceTensor).\n",
      "  discrete = torch.tensor(discrete).long()\n"
     ]
    }
   ],
   "source": [
    "from utils import Configs\n",
    "from jetdata import JetDataclass\n",
    "\n",
    "config = Configs(\"configs.yaml\")\n",
    "jets = JetDataclass(config=config)\n"
   ]
  },
  {
   "cell_type": "markdown",
   "id": "69279944",
   "metadata": {},
   "source": [
    "### inspect data"
   ]
  },
  {
   "cell_type": "code",
   "execution_count": 6,
   "id": "ce324ed3",
   "metadata": {},
   "outputs": [
    {
     "data": {
      "image/png": "[encoded data removed]",
      "text/plain": [
       "<Figure size 300x300 with 1 Axes>"
      ]
     },
     "metadata": {},
     "output_type": "display_data"
    },
    {
     "data": {
      "image/png": "[encoded data removed]",
      "text/plain": [
       "<Figure size 300x300 with 1 Axes>"
      ]
     },
     "metadata": {},
     "output_type": "display_data"
    }
   ],
   "source": [
    "jets.source.display_cloud(idx=0, scale_marker=10.0)\n",
    "jets.target.display_cloud(idx=3, scale_marker=2.0)"
   ]
  },
  {
   "cell_type": "markdown",
   "id": "ad3bbe5b",
   "metadata": {},
   "source": [
    "# 2. Absorbing Bridge Matching\n",
    "Permutation equivariant architecture for point clouds"
   ]
  },
  {
   "cell_type": "code",
   "execution_count": 2,
   "id": "a0421dae",
   "metadata": {},
   "outputs": [],
   "source": [
    "import torch\n",
    "import lightning as L\n",
    "from torch import nn\n",
    "from dataclasses import dataclass\n",
    "\n",
    "from architecture import MultiModalEPiC\n",
    "from bridges import LinearUniformBridge, TelegraphBridge\n",
    "from jetdata import BridgeState, OutputHeads\n",
    "\n",
    "\n",
    "class AbsorbingBridgeMatching(L.LightningModule):\n",
    "    \"\"\"Model for hybrid data with varying size\"\"\"\n",
    "\n",
    "    def __init__(self, config):\n",
    "        super().__init__()\n",
    "        self.config = config\n",
    "        self.vocab_size = config.data.vocab_size.features\n",
    "\n",
    "        self.encoder = MultiModalEPiC(config)\n",
    "\n",
    "        self.bridge_continuous = LinearUniformBridge(config)\n",
    "        self.bridge_discrete = TelegraphBridge(config)\n",
    "        self.bridge_absorbing = TelegraphBridge(config)\n",
    "\n",
    "        self.loss_continuous_fn = nn.MSELoss(reduction=\"none\")\n",
    "        self.loss_discrete_fn = nn.CrossEntropyLoss(reduction=\"none\")\n",
    "\n",
    "        self.save_hyperparameters()\n",
    "\n",
    "    def forward(self, state, batch):\n",
    "        continuous, discrete, absorbing = self.encoder(\n",
    "            t=state.time,\n",
    "            x=state.continuous,\n",
    "            k=state.discrete,\n",
    "            mask=state.absorbing,\n",
    "            context_continuous=getattr(batch, \"context_continuous\", None),\n",
    "            context_discrete=getattr(batch, \"context_discrete\", None),\n",
    "        )\n",
    "        return OutputHeads(continuous, discrete, absorbing)\n",
    "\n",
    "    def sample_bridges(self, batch):\n",
    "        \"\"\"sample stochastic bridges\"\"\"\n",
    "        t = torch.rand(\n",
    "            batch.target_continuous.shape[0], device=batch.target_continuous.device\n",
    "        ).type_as(batch.target_continuous)\n",
    "\n",
    "        time = self.reshape_time(t, batch.target_continuous)\n",
    "\n",
    "        continuous = self.bridge_continuous.sample(\n",
    "            time, batch.source_continuous, batch.target_continuous\n",
    "        )\n",
    "\n",
    "        discrete = self.bridge_discrete.sample(\n",
    "            time, batch.source_discrete, batch.target_discrete\n",
    "        )\n",
    "\n",
    "        absorbing = self.bridge_absorbing.sample(\n",
    "            time, batch.target_mask, batch.target_mask\n",
    "        )\n",
    "        return BridgeState(time, continuous, discrete, absorbing)\n",
    "\n",
    "    def loss_continuous(self, heads: OutputHeads, state: BridgeState, batch):\n",
    "        \"\"\"mean square error loss for velocity field\"\"\"\n",
    "        vector = heads.continuous\n",
    "        mask = heads.absorbing\n",
    "\n",
    "        ut = self.bridge_continuous.drift(\n",
    "            t=state.time,\n",
    "            x=state.continuous,\n",
    "            x0=batch.source_continuous,\n",
    "            x1=batch.target_continuous,\n",
    "        ).to(vector.device)\n",
    "        loss_mse = self.loss_continuous_fn(vector, ut) * mask\n",
    "        return loss_mse.sum() / mask.sum()\n",
    "\n",
    "    def loss_discrete(self, heads: OutputHeads, batch):\n",
    "        \"\"\"cross-entropy loss for discrete state classifier\"\"\"\n",
    "        logits = heads.discrete\n",
    "        targets = batch.target_discrete\n",
    "        mask = heads.absorbing\n",
    "        logits = heads.discrete.reshape(-1, self.vocab_size)\n",
    "        targets = batch.target_discrete.reshape(-1).long()\n",
    "        targets = targets.to(logits.device)\n",
    "        mask = mask.reshape(-1)\n",
    "        loss_ce = self.loss_discrete_fn(logits, targets) * mask\n",
    "        return loss_ce.sum() / mask.sum()\n",
    "\n",
    "    def reshape_time(self, t, x):\n",
    "        if isinstance(t, (float, int)):\n",
    "            return t\n",
    "        else:\n",
    "            return t.reshape(-1, *([1] * (x.dim() - 1)))\n",
    "\n",
    "    ###########################\n",
    "    ### Lightning functions ###\n",
    "    ###########################\n",
    "\n",
    "    def training_step(self, batch, batch_idx):\n",
    "        state = self.sample_bridges(batch)\n",
    "        state = state.to(self.device)\n",
    "        heads = self.forward(state, batch)\n",
    "        loss_continous = self.loss_continuous(heads, state, batch)\n",
    "        loss_discrete = self.loss_discrete(heads, batch)\n",
    "        loss = loss_continous + loss_discrete\n",
    "        self.log(\"train_loss\", loss, on_step=True, on_epoch=True)\n",
    "        return loss\n",
    "\n",
    "    def validation_step(self, batch, batch_idx):\n",
    "        state = self.sample_bridges(batch)\n",
    "        state = state.to(self.device)\n",
    "        heads = self.forward(state, batch)\n",
    "        loss_continous = self.loss_continuous(heads, state, batch)\n",
    "        loss_discrete = self.loss_discrete(heads, batch)\n",
    "        loss = loss_continous + loss_discrete\n",
    "        self.log(\"val_loss\", loss, on_step=True, on_epoch=True)\n",
    "        return loss\n",
    "\n",
    "    def predict_step(self, batch, batch_idx):\n",
    "        \"\"\"generate target data from source data using trained dynamics\"\"\"\n",
    "        time_steps = torch.linspace(\n",
    "            0.0,\n",
    "            1.0 - self.config.pipeline.time_eps,\n",
    "            self.config.pipeline.num_timesteps,\n",
    "            device=self.device,\n",
    "        )\n",
    "        delta_t = (time_steps[-1] - time_steps[0]) / (len(time_steps) - 1)\n",
    "        delta_t = delta_t.to(self.device)\n",
    "        state = BridgeState(\n",
    "            time_steps[0],\n",
    "            batch.source_continuous,\n",
    "            batch.source_discrete,\n",
    "            batch.source_mask,\n",
    "        )\n",
    "        state = state.to(self.device)\n",
    "        for time in time_steps[1:]:\n",
    "            state.time = torch.full((len(batch[0]), 1), time.item(), device=self.device)\n",
    "            heads = self.forward(state, batch)\n",
    "            state = self.bridge_continuous.solver_step(state, heads, delta_t)\n",
    "            state = self.bridge_discrete.solver_step(state, heads, delta_t)\n",
    "        return state\n",
    "\n",
    "    def configure_optimizers(self):\n",
    "        optimizer = torch.optim.Adam(\n",
    "            self.parameters(), lr=self.config.train.optimizer.params.lr\n",
    "        )\n",
    "        scheduler = torch.optim.lr_scheduler.CosineAnnealingLR(\n",
    "            optimizer,\n",
    "            T_max=self.config.train.scheduler.params.T_max,  # Adjust as needed\n",
    "            eta_min=self.config.train.scheduler.params.eta_min,  # Adjust as needed\n",
    "        )\n",
    "        return [optimizer], [scheduler]\n"
   ]
  },
  {
   "cell_type": "code",
   "execution_count": 3,
   "id": "7184170e",
   "metadata": {},
   "outputs": [
    {
     "name": "stdout",
     "output_type": "stream",
     "text": [
      "INFO: building dataloaders...\n",
      "INFO: train/val/test split ratios: 0.7/0.1/0.2\n",
      "INFO: train size: 7000, validation size: 1000, testing sizes: 2000\n"
     ]
    },
    {
     "name": "stderr",
     "output_type": "stream",
     "text": [
      "/home/df630/.conda/envs/conditional_rate_matching/lib/python3.10/site-packages/torch/nn/utils/weight_norm.py:30: UserWarning: torch.nn.utils.weight_norm is deprecated in favor of torch.nn.utils.parametrizations.weight_norm.\n",
      "  warnings.warn(\"torch.nn.utils.weight_norm is deprecated in favor of torch.nn.utils.parametrizations.weight_norm.\")\n"
     ]
    }
   ],
   "source": [
    "from utils import DataloaderModule\n",
    "\n",
    "jets.preprocess()\n",
    "dataloader = DataloaderModule(config=config, dataclass=jets)\n",
    "databatch = next(dataloader.train.__iter__())\n",
    "abm = AbsorbingBridgeMatching(config)\n"
   ]
  },
  {
   "cell_type": "code",
   "execution_count": 4,
   "id": "e354df3c",
   "metadata": {},
   "outputs": [
    {
     "name": "stderr",
     "output_type": "stream",
     "text": [
      "GPU available: True (cuda), used: True\n",
      "TPU available: False, using: 0 TPU cores\n",
      "HPU available: False, using: 0 HPUs\n",
      "LOCAL_RANK: 0 - CUDA_VISIBLE_DEVICES: [0,1,2,3]\n",
      "\n",
      "  | Name               | Type             | Params | Mode \n",
      "----------------------------------------------------------------\n",
      "0 | encoder            | MultiModalEPiC   | 826 K  | train\n",
      "1 | loss_continuous_fn | MSELoss          | 0      | train\n",
      "2 | loss_discrete_fn   | CrossEntropyLoss | 0      | train\n",
      "----------------------------------------------------------------\n",
      "826 K     Trainable params\n",
      "0         Non-trainable params\n",
      "826 K     Total params\n",
      "3.305     Total estimated model params size (MB)\n",
      "70        Modules in train mode\n",
      "0         Modules in eval mode\n"
     ]
    },
    {
     "data": {
      "application/vnd.jupyter.widget-view+json": {
       "model_id": "06b8eb82743d4b8c8aa60e2dbf8c1471",
       "version_major": 2,
       "version_minor": 0
      },
      "text/plain": [
       "Sanity Checking: |          | 0/? [00:00<?, ?it/s]"
      ]
     },
     "metadata": {},
     "output_type": "display_data"
    },
    {
     "name": "stderr",
     "output_type": "stream",
     "text": [
      "/home/df630/.conda/envs/conditional_rate_matching/lib/python3.10/site-packages/lightning/pytorch/trainer/connectors/data_connector.py:424: The 'val_dataloader' does not have many workers which may be a bottleneck. Consider increasing the value of the `num_workers` argument` to `num_workers=19` in the `DataLoader` to improve performance.\n",
      "/home/df630/.conda/envs/conditional_rate_matching/lib/python3.10/site-packages/lightning/pytorch/trainer/connectors/data_connector.py:424: The 'train_dataloader' does not have many workers which may be a bottleneck. Consider increasing the value of the `num_workers` argument` to `num_workers=19` in the `DataLoader` to improve performance.\n"
     ]
    },
    {
     "data": {
      "application/vnd.jupyter.widget-view+json": {
       "model_id": "b18674bd75ca4e0c95c63d781784ea4a",
       "version_major": 2,
       "version_minor": 0
      },
      "text/plain": [
       "Training: |          | 0/? [00:00<?, ?it/s]"
      ]
     },
     "metadata": {},
     "output_type": "display_data"
    },
    {
     "data": {
      "application/vnd.jupyter.widget-view+json": {
       "model_id": "b19273683cbe45b09cec0d70430e2dbd",
       "version_major": 2,
       "version_minor": 0
      },
      "text/plain": [
       "Validation: |          | 0/? [00:00<?, ?it/s]"
      ]
     },
     "metadata": {},
     "output_type": "display_data"
    },
    {
     "data": {
      "application/vnd.jupyter.widget-view+json": {
       "model_id": "3eae1c2216fc409887b9b952d92bf9c9",
       "version_major": 2,
       "version_minor": 0
      },
      "text/plain": [
       "Validation: |          | 0/? [00:00<?, ?it/s]"
      ]
     },
     "metadata": {},
     "output_type": "display_data"
    },
    {
     "data": {
      "application/vnd.jupyter.widget-view+json": {
       "model_id": "91218f14582b470992c0a84d9c82dab2",
       "version_major": 2,
       "version_minor": 0
      },
      "text/plain": [
       "Validation: |          | 0/? [00:00<?, ?it/s]"
      ]
     },
     "metadata": {},
     "output_type": "display_data"
    },
    {
     "data": {
      "application/vnd.jupyter.widget-view+json": {
       "model_id": "96a7c58a0f474f10b86c8a71ea61ee07",
       "version_major": 2,
       "version_minor": 0
      },
      "text/plain": [
       "Validation: |          | 0/? [00:00<?, ?it/s]"
      ]
     },
     "metadata": {},
     "output_type": "display_data"
    },
    {
     "data": {
      "application/vnd.jupyter.widget-view+json": {
       "model_id": "af4f8f73761b471c88cd192b73770207",
       "version_major": 2,
       "version_minor": 0
      },
      "text/plain": [
       "Validation: |          | 0/? [00:00<?, ?it/s]"
      ]
     },
     "metadata": {},
     "output_type": "display_data"
    },
    {
     "data": {
      "application/vnd.jupyter.widget-view+json": {
       "model_id": "d41dfb235ceb4dc38888efaf82dfb386",
       "version_major": 2,
       "version_minor": 0
      },
      "text/plain": [
       "Validation: |          | 0/? [00:00<?, ?it/s]"
      ]
     },
     "metadata": {},
     "output_type": "display_data"
    },
    {
     "data": {
      "application/vnd.jupyter.widget-view+json": {
       "model_id": "bd6b440b5db649ea9c6de7ebd37e76fb",
       "version_major": 2,
       "version_minor": 0
      },
      "text/plain": [
       "Validation: |          | 0/? [00:00<?, ?it/s]"
      ]
     },
     "metadata": {},
     "output_type": "display_data"
    },
    {
     "data": {
      "application/vnd.jupyter.widget-view+json": {
       "model_id": "9f44f044887f4caf8b3faf06cf76cfa8",
       "version_major": 2,
       "version_minor": 0
      },
      "text/plain": [
       "Validation: |          | 0/? [00:00<?, ?it/s]"
      ]
     },
     "metadata": {},
     "output_type": "display_data"
    },
    {
     "data": {
      "application/vnd.jupyter.widget-view+json": {
       "model_id": "cf28728b4fdd40d1abaee4284fc57b6a",
       "version_major": 2,
       "version_minor": 0
      },
      "text/plain": [
       "Validation: |          | 0/? [00:00<?, ?it/s]"
      ]
     },
     "metadata": {},
     "output_type": "display_data"
    },
    {
     "data": {
      "application/vnd.jupyter.widget-view+json": {
       "model_id": "50511bdbac67411b84f0f6787a88eb20",
       "version_major": 2,
       "version_minor": 0
      },
      "text/plain": [
       "Validation: |          | 0/? [00:00<?, ?it/s]"
      ]
     },
     "metadata": {},
     "output_type": "display_data"
    },
    {
     "name": "stderr",
     "output_type": "stream",
     "text": [
      "`Trainer.fit` stopped: `max_epochs=10` reached.\n"
     ]
    }
   ],
   "source": [
    "from lightning.pytorch import Trainer\n",
    "\n",
    "model = Trainer(\n",
    "    max_epochs=10,\n",
    "    log_every_n_steps=5,\n",
    "    accelerator=\"gpu\",\n",
    "    devices=1,\n",
    "    gradient_clip_val=1.0,\n",
    ")\n",
    "\n",
    "model.fit(abm, train_dataloaders=dataloader.train, val_dataloaders=dataloader.valid)"
   ]
  },
  {
   "cell_type": "markdown",
   "id": "eaad9e21",
   "metadata": {},
   "source": [
    "# 3. Generate data:"
   ]
  },
  {
   "cell_type": "code",
   "execution_count": null,
   "id": "b06126fd",
   "metadata": {},
   "outputs": [],
   "source": [
    "generation = model.predict(abm, dataloaders=dataloader.test)\n"
   ]
  },
  {
   "cell_type": "markdown",
   "id": "ac7dc669",
   "metadata": {},
   "source": []
  },
  {
   "cell_type": "code",
   "execution_count": 6,
   "id": "84787d73",
   "metadata": {},
   "outputs": [
    {
     "ename": "NameError",
     "evalue": "name 'generation' is not defined",
     "output_type": "error",
     "traceback": [
      "\u001b[0;31m---------------------------------------------------------------------------\u001b[0m",
      "\u001b[0;31mNameError\u001b[0m                                 Traceback (most recent call last)",
      "Cell \u001b[0;32mIn[6], line 3\u001b[0m\n\u001b[1;32m      1\u001b[0m \u001b[39mfrom\u001b[39;00m \u001b[39mjetdata\u001b[39;00m \u001b[39mimport\u001b[39;00m ParticleClouds\n\u001b[0;32m----> 3\u001b[0m sample \u001b[39m=\u001b[39m ParticleClouds(dataset\u001b[39m=\u001b[39mgeneration[\u001b[39m0\u001b[39m])\n\u001b[1;32m      4\u001b[0m sample\u001b[39m.\u001b[39mdisplay_cloud(idx\u001b[39m=\u001b[39m\u001b[39m0\u001b[39m, scale_marker\u001b[39m=\u001b[39m\u001b[39m10.0\u001b[39m)\n",
      "\u001b[0;31mNameError\u001b[0m: name 'generation' is not defined"
     ]
    }
   ],
   "source": [
    "from jetdata import ParticleClouds\n",
    "\n",
    "sample = ParticleClouds(dataset=generation[0])\n",
    "sample.postprocess()\n",
    "sample.display_cloud(idx=0, scale_marker=10.0)"
   ]
  },
  {
   "cell_type": "code",
   "execution_count": null,
   "id": "8a743d79",
   "metadata": {},
   "outputs": [],
   "source": []
  }
 ],
 "metadata": {
  "kernelspec": {
   "display_name": "Python 3 (ipykernel)",
   "language": "python",
   "name": "python3"
  },
  "language_info": {
   "codemirror_mode": {
    "name": "ipython",
    "version": 3
   },
   "file_extension": ".py",
   "mimetype": "text/x-python",
   "name": "python",
   "nbconvert_exporter": "python",
   "pygments_lexer": "ipython3",
   "version": "3.10.9"
  }
 },
 "nbformat": 4,
 "nbformat_minor": 5
}
