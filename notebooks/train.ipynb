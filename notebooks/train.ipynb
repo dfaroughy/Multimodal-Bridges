{
 "cells": [
  {
   "cell_type": "code",
   "execution_count": null,
   "id": "8373ee76",
   "metadata": {},
   "outputs": [],
   "source": [
    "import os\n",
    "import lightning.pytorch as L\n",
    "from pytorch_lightning.loggers import CometLogger\n",
    "from lightning.pytorch.callbacks import ModelCheckpoint, RichProgressBar\n",
    "from lightning.pytorch.callbacks.progress.rich_progress import RichProgressBarTheme\n",
    "\n",
    "from utils.configs import ExperimentConfigs\n",
    "from utils.callbacks import MetricLoggerCallback \n",
    "from utils.dataloader import DataloaderModule\n",
    "from data.particle_clouds.jets import JetDataModule\n",
    "from multimodal_bridge_matching import MultiModalBridgeMatching\n",
    "\n",
    "\n",
    "config = ExperimentConfigs('/home/df630/Multimodal-Bridges/experiments/configs/aoj_config.yaml')\n",
    "jets = JetDataModule(config=config, preprocess=True)\n",
    "dataloader = DataloaderModule(config=config, datamodule=jets)\n",
    "model = MultiModalBridgeMatching(config)"
   ]
  },
  {
   "cell_type": "code",
   "execution_count": null,
   "id": "9d810fd9",
   "metadata": {},
   "outputs": [],
   "source": [
    "#...Loggers\n",
    "\n",
    "if hasattr(config.experiment, 'comet_logger'):\n",
    "    logger = CometLogger(**config.experiment.comet_logger.to_dict())\n",
    "    config.experiment.comet_logger.experiment_key = logger.experiment.get_key()\n",
    "    logger.experiment.log_parameters(parameters=config.to_dict())\n",
    "else:\n",
    "    logger = None\n",
    "    \n",
    "#...Callbacks (always after loading model and data)\n",
    "\n",
    "progress_bar = RichProgressBar(theme=RichProgressBarTheme(**config.experiment.progress_bar.to_dict()))\n",
    "checkpoints = ModelCheckpoint(**config.experiment.checkpoints.to_dict())\n",
    "metrics = MetricLoggerCallback(sync_dist=True)"
   ]
  },
  {
   "cell_type": "code",
   "execution_count": null,
   "id": "92e4f6ec",
   "metadata": {},
   "outputs": [],
   "source": [
    "#...Train\n",
    "\n",
    "trainer = L.Trainer(\n",
    "    max_epochs=config.train.max_epochs,\n",
    "    accelerator=\"gpu\",\n",
    "    strategy='ddp_notebook',\n",
    "    num_nodes=1,\n",
    "    devices=[0,3],\n",
    "    sync_batchnorm=True,\n",
    "    gradient_clip_val=1.0,\n",
    "    callbacks=[progress_bar, checkpoints, metrics],  # Pass all callbacks\n",
    "    logger=logger,  # Logger\n",
    ")\n",
    "\n",
    "trainer.fit(\n",
    "        model, train_dataloaders=dataloader.train, val_dataloaders=dataloader.valid\n",
    "    )"
   ]
  }
 ],
 "metadata": {
  "kernelspec": {
   "display_name": "Python 3 (ipykernel)",
   "language": "python",
   "name": "python3"
  },
  "language_info": {
   "codemirror_mode": {
    "name": "ipython",
    "version": 3
   },
   "file_extension": ".py",
   "mimetype": "text/x-python",
   "name": "python",
   "nbconvert_exporter": "python",
   "pygments_lexer": "ipython3",
   "version": "3.10.9"
  }
 },
 "nbformat": 4,
 "nbformat_minor": 5
}
