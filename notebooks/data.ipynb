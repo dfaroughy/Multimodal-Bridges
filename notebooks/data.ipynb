{
 "cells": [
  {
   "cell_type": "code",
   "execution_count": 1,
   "metadata": {},
   "outputs": [],
   "source": [
    "from pipeline.configs import ExperimentConfigs\n",
    "import json \n",
    "config = ExperimentConfigs('/home/df630/Multimodal-Bridges/experiments/configs/config_multimodal.yaml')"
   ]
  },
  {
   "cell_type": "code",
   "execution_count": 2,
   "metadata": {},
   "outputs": [
    {
     "data": {
      "text/plain": [
       "{'modality': 'multi-modal',\n",
       " 'batch_size': 1024,\n",
       " 'split_ratios': [0.9, 0.1],\n",
       " 'transform': None,\n",
       " 'continuous_features': ['pt', 'eta_rel', 'phi_rel'],\n",
       " 'discrete_features': 'tokens',\n",
       " 'target_name': 'AspenOpenJets',\n",
       " 'target_path': '/home/df630/Multimodal-Bridges/data/aoj/',\n",
       " 'target_train_files': 'RunG_batch0.h5',\n",
       " 'target_test_files': 'RunG_batch1.h5',\n",
       " 'source_name': 'MultiModalNoise',\n",
       " 'source_path': None,\n",
       " 'source_train_files': None,\n",
       " 'source_test_files': None,\n",
       " 'num_jets': 100000,\n",
       " 'min_num_particles': 0,\n",
       " 'max_num_particles': 128,\n",
       " 'dim_continuous': 3,\n",
       " 'dim_discrete': 1,\n",
       " 'dim_context_continuous': 0,\n",
       " 'dim_context_discrete': 0,\n",
       " 'vocab_size': 8,\n",
       " 'vocab_size_context': 0,\n",
       " 'num_workers': 0,\n",
       " 'pin_memory': False}"
      ]
     },
     "execution_count": 2,
     "metadata": {},
     "output_type": "execute_result"
    }
   ],
   "source": [
    "config.to_dict()['data']"
   ]
  },
  {
   "cell_type": "code",
   "execution_count": 3,
   "metadata": {},
   "outputs": [
    {
     "data": {
      "text/plain": [
       "{'name': 'MultiModalEPiC',\n",
       " 'num_blocks': 10,\n",
       " 'dim_hidden_local': 128,\n",
       " 'dim_hidden_glob': 16,\n",
       " 'skip_connection': True,\n",
       " 'dropout': 0.2,\n",
       " 'data_augmentation': False,\n",
       " 'dim_emb_time': 16,\n",
       " 'dim_emb_continuous': 3,\n",
       " 'dim_emb_discrete': 3,\n",
       " 'dim_emb_context_continuous': 0,\n",
       " 'dim_emb_context_discrete': 0,\n",
       " 'embed_type_time': 'SinusoidalPositionalEncoding',\n",
       " 'embed_type_continuous': None,\n",
       " 'embed_type_discrete': 'LookupTable',\n",
       " 'embed_type_context_continuous': None,\n",
       " 'embed_type_context_discrete': None}"
      ]
     },
     "execution_count": 3,
     "metadata": {},
     "output_type": "execute_result"
    }
   ],
   "source": [
    "config.to_dict()['encoder']\n",
    "\n"
   ]
  },
  {
   "cell_type": "code",
   "execution_count": 1,
   "metadata": {},
   "outputs": [
    {
     "name": "stdout",
     "output_type": "stream",
     "text": [
      "(10000, 150, 8)\n"
     ]
    },
    {
     "name": "stderr",
     "output_type": "stream",
     "text": [
      "/home/df630/Multimodal-Bridges/multimodal_bridges/datamodules/particle_clouds/aoj.py:70: UserWarning: To copy construct from a tensor, it is recommended to use sourceTensor.clone().detach() or sourceTensor.clone().detach().requires_grad_(True), rather than torch.tensor(sourceTensor).\n",
      "  list_discrete_feats.append(torch.tensor(feats[features[\"discrete\"]]))\n"
     ]
    },
    {
     "name": "stdout",
     "output_type": "stream",
     "text": [
      "Clustering jets with fastjet\n",
      "Jet definition: Longitudinally invariant kt algorithm with R = 0.8 and pt-ordered Winner-Takes-All recombination\n",
      "Calculating N-subjettiness\n",
      "#--------------------------------------------------------------------------\n",
      "#                         FastJet release 3.4.2\n",
      "#                 M. Cacciari, G.P. Salam and G. Soyez                  \n",
      "#     A software package for jet finding and analysis at colliders      \n",
      "#                           http://fastjet.fr                           \n",
      "#\t                                                                      \n",
      "# Please cite EPJC72(2012)1896 [arXiv:1111.6097] if you use this package\n",
      "# for scientific work and optionally PLB641(2006)57 [hep-ph/0512210].   \n",
      "#                                                                       \n",
      "# FastJet is provided without warranty under the GNU GPL v2 or higher.  \n",
      "# It uses T. Chan's closest pair algorithm, S. Fortune's Voronoi code,\n",
      "# CGAL and 3rd party plugin jet algorithms. See COPYING file for details.\n",
      "#--------------------------------------------------------------------------\n"
     ]
    },
    {
     "name": "stderr",
     "output_type": "stream",
     "text": [
      "UserWarning: dcut and exclusive jets for jet-finders other than kt, C/A or genkt with p>=0 should be interpreted with care.\n"
     ]
    }
   ],
   "source": [
    "import numpy as np\n",
    "import json\n",
    "import matplotlib.pyplot as plt\n",
    "from datamodules.particle_clouds.utils import JetFeatures\n",
    "from datamodules.particle_clouds.aoj import AspenOpenJets\n",
    "\n",
    "aoj = AspenOpenJets(data_dir=\"/home/df630/Multimodal-Bridges/data/aoj\",\n",
    "                    data_files=\"RunG_batch0.h5\"\n",
    "                    )\n",
    "\n",
    "data, metadata = aoj(num_jets=10000, download=False, features={\"continuous\": [\"pt\", \"phi_rel\", \"eta_rel\", \"onehot\"], \"discrete\": 'tokens'},)\n",
    "jets = JetFeatures(data)\n"
   ]
  },
  {
   "cell_type": "code",
   "execution_count": 3,
   "metadata": {},
   "outputs": [
    {
     "data": {
      "text/plain": [
       "(torch.Size([10000, 150, 11]), torch.Size([10000, 150, 1]))"
      ]
     },
     "execution_count": 3,
     "metadata": {},
     "output_type": "execute_result"
    }
   ],
   "source": [
    "data.continuous.shape, data.discrete.shape"
   ]
  },
  {
   "cell_type": "markdown",
   "metadata": {},
   "source": []
  },
  {
   "cell_type": "code",
   "execution_count": 3,
   "metadata": {},
   "outputs": [
    {
     "data": {
      "image/png": "[encoded data removed]",
      "text/plain": [
       "<Figure size 200x200 with 1 Axes>"
      ]
     },
     "metadata": {},
     "output_type": "display_data"
    },
    {
     "data": {
      "image/png": "[encoded data removed]",
      "text/plain": [
       "<Figure size 200x200 with 1 Axes>"
      ]
     },
     "metadata": {},
     "output_type": "display_data"
    },
    {
     "data": {
      "image/png": "[encoded data removed]",
      "text/plain": [
       "<Figure size 200x200 with 1 Axes>"
      ]
     },
     "metadata": {},
     "output_type": "display_data"
    },
    {
     "data": {
      "image/png": "[encoded data removed]",
      "text/plain": [
       "<Figure size 200x200 with 1 Axes>"
      ]
     },
     "metadata": {},
     "output_type": "display_data"
    },
    {
     "data": {
      "image/png": "[encoded data removed]",
      "text/plain": [
       "<Figure size 300x200 with 1 Axes>"
      ]
     },
     "metadata": {},
     "output_type": "display_data"
    },
    {
     "data": {
      "image/png": "[encoded data removed]",
      "text/plain": [
       "<Figure size 300x200 with 1 Axes>"
      ]
     },
     "metadata": {},
     "output_type": "display_data"
    },
    {
     "data": {
      "image/png": "[encoded data removed]",
      "text/plain": [
       "<Figure size 300x200 with 1 Axes>"
      ]
     },
     "metadata": {},
     "output_type": "display_data"
    }
   ],
   "source": [
    "_, ax = plt.subplots(1, 1, figsize=(2, 2))\n",
    "jets.constituents.histplot(\"pt\", ax=ax, fill=False, bins=100, lw=1, log_scale=(False, True), stat=\"density\", xlim=(-10, 500))\n",
    "\n",
    "_, ax = plt.subplots(1, 1, figsize=(2, 2))\n",
    "jets.histplot(\"pt\", ax=ax, fill=False, bins=200, lw=1, stat=\"density\", xlim=(200, 800))\n",
    "\n",
    "_, ax = plt.subplots(1, 1, figsize=(2, 2))\n",
    "jets.histplot(\"m\", ax=ax, fill=False, bins=200, lw=1, stat=\"density\", xlim=(-10, 250))\n",
    "\n",
    "_, ax = plt.subplots(1, 1, figsize=(2, 2))\n",
    "jets.constituents.histplot(\n",
    "    \"multiplicity\", ax=ax, lw=1, fill=False, discrete=True,)\n",
    "\n",
    "_, ax = plt.subplots(1, 1, figsize=(3, 2))\n",
    "jets.histplot(\"tau32\", ax=ax, lw=1, fill=False, binrange=(0, 1), bins=100)\n",
    "jets.histplot(\"tau21\", ax=ax, lw=1, fill=False, binrange=(0, 1), bins=100)\n",
    "\n",
    "_, ax = plt.subplots(1, 1, figsize=(3, 2))\n",
    "\n",
    "jets.histplot(\"numLeptons\", fill=False, ax=ax, lw=1, binrange=(0, 40), discrete=True)\n",
    "jets.histplot(\n",
    "    \"numNeutralHadrons\", fill=False, ax=ax, lw=1, binrange=(0, 40), discrete=True\n",
    ")\n",
    "jets.histplot(\n",
    "    \"numPositiveHadrons\", fill=False, ax=ax, lw=1, binrange=(0, 40), discrete=True\n",
    ")\n",
    "jets.histplot(\n",
    "    \"numNegativeHadrons\", fill=False, ax=ax, lw=1, binrange=(0, 40), discrete=True\n",
    ")\n",
    "jets.histplot(\n",
    "    \"numPhotons\",\n",
    "    fill=False,\n",
    "    xlabel=\"num particles\",\n",
    "    ax=ax,\n",
    "    lw=1,\n",
    "    binrange=(0, 40),\n",
    "    discrete=True,\n",
    ")\n",
    "\n",
    "_, ax = plt.subplots(1, 1, figsize=(3, 2))\n",
    "\n",
    "jets.plot_flavor_count_per_jet(ax=ax)"
   ]
  },
  {
   "cell_type": "code",
   "execution_count": null,
   "metadata": {},
   "outputs": [],
   "source": []
  },
  {
   "cell_type": "code",
   "execution_count": null,
   "metadata": {},
   "outputs": [],
   "source": []
  },
  {
   "cell_type": "markdown",
   "metadata": {},
   "source": [
    "## get AOJ metadata"
   ]
  },
  {
   "cell_type": "code",
   "execution_count": null,
   "metadata": {},
   "outputs": [],
   "source": [
    "import numpy as np\n",
    "import json\n",
    "import os\n",
    "from datamodules.particle_clouds.aoj import AspenOpenJets\n",
    "\n",
    "def extract_aoj_metadata(path, filename):\n",
    "    \"\"\"Compute statistics for the given data.\n",
    "    \"\"\"\n",
    "\n",
    "    file_path = os.path.join(path, filename)\n",
    "\n",
    "    aoj = AspenOpenJets(file_path)\n",
    "    data = aoj()\n",
    "    continuous = data.continuous\n",
    "    mask = data.mask\n",
    "    mask_bool = mask.squeeze(-1) > 0\n",
    "\n",
    "    nums = mask.sum(dim=1).squeeze()\n",
    "    hist, _ = np.histogram(\n",
    "        nums, bins=np.arange(0, continuous.shape[1] + 2, 1), density=True\n",
    "    )\n",
    "\n",
    "    return {\n",
    "        \"source file\": filename,\n",
    "        \"num_jets_sample\": continuous.shape[0],\n",
    "        \"num_particles_sample\": nums.sum().item(),\n",
    "        \"max_num_particles_per_jet\": continuous.shape[1],\n",
    "        \"continuous_mean\": continuous[mask_bool].mean(0).tolist(),\n",
    "        \"continuous_std\": continuous[mask_bool].std(0).tolist(),\n",
    "        \"continuous_min\": continuous[mask_bool].min(0).values.tolist(),\n",
    "        \"continuous_max\": continuous[mask_bool].max(0).values.tolist(),\n",
    "        \"continuous_features\": {\"pt\": 0, \"eta_rel\": 1, \"phi_rel\": 2},\n",
    "        \"tokens\": {\n",
    "            0: {\"name\": \"photon\", \"color\": \"gold\", \"marker\": \"o\", \"tex\": r\"\\gamma\"},\n",
    "            1: {\"name\": \"h0\", \"color\": \"darkred\", \"marker\": \"o\", \"tex\": r\"$\\rm h^0$\",},\n",
    "            2: {\"name\": \"h-\", \"color\": \"darkred\", \"marker\": \"v\", \"tex\": r\"$\\rm h^-$\"},\n",
    "            3: {\"name\": \"h+\", \"color\": \"darkred\", \"marker\": \"^\", \"tex\": r\"$\\rm h^+$\"},\n",
    "            4: {\"name\": \"e-\", \"color\": \"blue\", \"marker\": \"v\", \"tex\": r\"e^-\"},\n",
    "            5: {\"name\": \"e+\", \"color\": \"blue\", \"marker\": \"^\", \"tex\": r\"e^+\"},\n",
    "            6: {\"name\": \"mu-\", \"color\": \"green\", \"marker\": \"v\", \"tex\": r\"\\mu^-\"},\n",
    "            7: {\"name\": \"mu+\", \"color\": \"green\", \"marker\": \"^\", \"tex\": r\"\\mu^+\"},\n",
    "        },\n",
    "        \"categorical_probs\": hist.tolist(),\n",
    "    }"
   ]
  },
  {
   "cell_type": "code",
   "execution_count": null,
   "metadata": {},
   "outputs": [],
   "source": [
    "aoj_dir = \"/home/df630/Multimodal-Bridges/data/aoj\"\n",
    "filename = \"RunG_batch0.h5\"\n",
    "metadata = extract_aoj_metadata(aoj_dir, filename)\n",
    "\n",
    "with open(os.path.join(aoj_dir, \"metadata.json\"), \"w\") as f:\n",
    "    json.dump(metadata, f, indent=4)"
   ]
  },
  {
   "cell_type": "markdown",
   "metadata": {},
   "source": [
    "## Examine AOJ data"
   ]
  },
  {
   "cell_type": "code",
   "execution_count": null,
   "metadata": {},
   "outputs": [],
   "source": [
    "import numpy as np\n",
    "import json\n",
    "import matplotlib.pyplot as plt\n",
    "\n",
    "from datamodules.particle_clouds.aoj import AspenOpenJets\n",
    "from datamodules.particle_clouds.utils import JetFeatures\n",
    "\n",
    "aoj = AspenOpenJets(data_dir=\"/home/df630/Multimodal-Bridges/data/aoj\",\n",
    "                    data_files=\"RunG_batch0.h5\"\n",
    "                    )\n",
    "\n",
    "data, metadata = aoj(num_jets=10000, download=False)\n",
    "jets = JetFeatures(data)\n"
   ]
  },
  {
   "cell_type": "code",
   "execution_count": null,
   "metadata": {},
   "outputs": [],
   "source": [
    "_, ax = plt.subplots(1, 1, figsize=(2, 2))\n",
    "jets.constituents.histplot(\"pt\", ax=ax, fill=False, bins=100, lw=1, log_scale=(False, True), stat=\"density\", xlim=(-10, 500))\n",
    "\n",
    "_, ax = plt.subplots(1, 1, figsize=(2, 2))\n",
    "jets.histplot(\"pt\", ax=ax, fill=False, bins=200, lw=1, stat=\"density\", xlim=(200, 800))\n",
    "\n",
    "_, ax = plt.subplots(1, 1, figsize=(2, 2))\n",
    "jets.histplot(\"m\", ax=ax, fill=False, bins=200, lw=1, stat=\"density\", xlim=(-10, 250))\n",
    "\n",
    "_, ax = plt.subplots(1, 1, figsize=(2, 2))\n",
    "jets.constituents.histplot(\n",
    "    \"multiplicity\", ax=ax, lw=1, fill=False, discrete=True,)\n",
    "\n",
    "_, ax = plt.subplots(1, 1, figsize=(3, 2))\n",
    "jets.histplot(\"tau32\", ax=ax, lw=1, fill=False, binrange=(0, 1), bins=100)\n",
    "jets.histplot(\"tau21\", ax=ax, lw=1, fill=False, binrange=(0, 1), bins=100)\n",
    "\n",
    "_, ax = plt.subplots(1, 1, figsize=(3, 2))\n",
    "\n",
    "jets.histplot(\"numLeptons\", fill=False, ax=ax, lw=1, binrange=(0, 40), discrete=True)\n",
    "jets.histplot(\n",
    "    \"numNeutralHadrons\", fill=False, ax=ax, lw=1, binrange=(0, 40), discrete=True\n",
    ")\n",
    "jets.histplot(\n",
    "    \"numPositiveHadrons\", fill=False, ax=ax, lw=1, binrange=(0, 40), discrete=True\n",
    ")\n",
    "jets.histplot(\n",
    "    \"numNegativeHadrons\", fill=False, ax=ax, lw=1, binrange=(0, 40), discrete=True\n",
    ")\n",
    "jets.histplot(\n",
    "    \"numPhotons\",\n",
    "    fill=False,\n",
    "    xlabel=\"num particles\",\n",
    "    ax=ax,\n",
    "    lw=1,\n",
    "    binrange=(0, 40),\n",
    "    discrete=True,\n",
    ")\n",
    "\n",
    "_, ax = plt.subplots(1, 1, figsize=(3, 2))\n",
    "\n",
    "jets.plot_flavor_count_per_jet(ax=ax)\n"
   ]
  },
  {
   "cell_type": "markdown",
   "metadata": {},
   "source": [
    "## preprocessing:"
   ]
  },
  {
   "cell_type": "code",
   "execution_count": null,
   "metadata": {},
   "outputs": [],
   "source": [
    "import numpy as np\n",
    "import json\n",
    "import matplotlib.pyplot as plt\n",
    "\n",
    "from datamodules.particle_clouds.aoj import AspenOpenJets\n",
    "from datamodules.particle_clouds.utils import JetFeatures\n",
    "\n",
    "\n",
    "aoj = AspenOpenJets(data_dir=\"/home/df630/Multimodal-Bridges/data/aoj\",\n",
    "                    data_files=\"RunG_batch0.h5\"\n",
    "                    )\n",
    "\n",
    "data, metadata = aoj(num_jets=10000, download=False, transform='standardize')\n",
    "jets = JetFeatures(data)\n"
   ]
  },
  {
   "cell_type": "code",
   "execution_count": null,
   "metadata": {},
   "outputs": [],
   "source": [
    "_, ax = plt.subplots(1, 1, figsize=(2, 2))\n",
    "jets.constituents.histplot(\"pt\", ax=ax, fill=False, bins=100, lw=1, log_scale=(False, True), stat=\"density\")\n",
    "\n",
    "_, ax = plt.subplots(1, 1, figsize=(2, 2))\n",
    "jets.histplot(\"pt\", ax=ax, fill=False, bins=200, lw=1, stat=\"density\")\n",
    "\n",
    "_, ax = plt.subplots(1, 1, figsize=(2, 2))\n",
    "jets.histplot(\"m\", ax=ax, fill=False, bins=200, lw=1, stat=\"density\")\n",
    "\n",
    "_, ax = plt.subplots(1, 1, figsize=(2, 2))\n",
    "jets.constituents.histplot(\n",
    "    \"multiplicity\", ax=ax, lw=1, fill=False, discrete=True,)\n",
    "\n",
    "_, ax = plt.subplots(1, 1, figsize=(3, 2))\n",
    "jets.histplot(\"tau32\", ax=ax, lw=1, fill=False, binrange=(0, 1), bins=100)\n",
    "jets.histplot(\"tau21\", ax=ax, lw=1, fill=False, binrange=(0, 1), bins=100)\n",
    "\n",
    "_, ax = plt.subplots(1, 1, figsize=(3, 2))\n",
    "\n",
    "jets.histplot(\"numLeptons\", fill=False, ax=ax, lw=1, binrange=(0, 40), discrete=True)\n",
    "jets.histplot(\n",
    "    \"numNeutralHadrons\", fill=False, ax=ax, lw=1, binrange=(0, 40), discrete=True\n",
    ")\n",
    "jets.histplot(\n",
    "    \"numPositiveHadrons\", fill=False, ax=ax, lw=1, binrange=(0, 40), discrete=True\n",
    ")\n",
    "jets.histplot(\n",
    "    \"numNegativeHadrons\", fill=False, ax=ax, lw=1, binrange=(0, 40), discrete=True\n",
    ")\n",
    "jets.histplot(\n",
    "    \"numPhotons\",\n",
    "    fill=False,\n",
    "    xlabel=\"num particles\",\n",
    "    ax=ax,\n",
    "    lw=1,\n",
    "    binrange=(0, 40),\n",
    "    discrete=True,\n",
    ")\n",
    "\n",
    "_, ax = plt.subplots(1, 1, figsize=(3, 2))\n",
    "\n",
    "jets.plot_flavor_count_per_jet(ax=ax)\n"
   ]
  },
  {
   "cell_type": "code",
   "execution_count": null,
   "metadata": {},
   "outputs": [],
   "source": []
  },
  {
   "cell_type": "markdown",
   "metadata": {},
   "source": [
    "# Examine generated jets"
   ]
  },
  {
   "cell_type": "code",
   "execution_count": null,
   "metadata": {},
   "outputs": [],
   "source": [
    "import numpy as np\n",
    "import json\n",
    "import torch\n",
    "import matplotlib.pyplot as plt\n",
    "\n",
    "from tensorclass import TensorMultiModal\n",
    "from datamodules.particle_clouds.utils import JetFeatures\n",
    "\n",
    "\n",
    "dir_path = '/home/df630/Multimodal-Bridges/experiments/results/comet/multimodal-jets/07a2c03c6317431cae6fd447087962b5'\n",
    "\n",
    "with open(dir_path + '/metadata.json', 'r') as f:\n",
    "    metadata = json.load(f)\n",
    "\n",
    "src_path = dir_path + '/data/source_sample.h5'\n",
    "test_path = dir_path + '/data/test_sample.h5'\n",
    "gen_path = dir_path + '/data/generated_sample.h5'\n",
    "\n",
    "gen = TensorMultiModal.load_from(gen_path)\n",
    "src = TensorMultiModal.load_from(src_path)\n",
    "test = TensorMultiModal.load_from(test_path)\n",
    "\n"
   ]
  },
  {
   "cell_type": "code",
   "execution_count": null,
   "metadata": {},
   "outputs": [],
   "source": [
    "# mean = torch.tensor(metadata['target']['mean'])\n",
    "# std = torch.tensor(metadata['target']['std'])\n",
    "\n",
    "# gen.continuous = gen.continuous * std +  mean \n",
    "# test.continuous = test.continuous * std + mean\n",
    "\n",
    "# gen.continuous *= gen.mask\n",
    "# test.continuous *= test.mask\n",
    "\n",
    "# gen.apply_mask()\n",
    "# test.apply_mask()"
   ]
  },
  {
   "cell_type": "code",
   "execution_count": null,
   "metadata": {},
   "outputs": [],
   "source": [
    "src_jets = JetFeatures(src)\n",
    "gen_jets = JetFeatures(gen)\n",
    "test_jets = JetFeatures(test)"
   ]
  },
  {
   "cell_type": "code",
   "execution_count": null,
   "metadata": {},
   "outputs": [],
   "source": [
    "_, ax = plt.subplots(1, 1, figsize=(2, 2))\n",
    "test_jets.constituents.histplot(\"pt\", ax=ax, fill=False, bins=100, lw=1, color = 'r', log_scale=(False, True), stat=\"density\", binrange=(-5, 800))\n",
    "gen_jets.constituents.histplot(\"pt\", ax=ax, fill=False, bins=100, lw=1, color = 'k', log_scale=(False, True), stat=\"density\", binrange=(-5, 800))\n",
    "src_jets.constituents.histplot(\"pt\", ax=ax, fill=False, bins=100, lw=1, color = 'b', log_scale=(False, True), stat=\"density\", binrange=(-5, 800))\n",
    "\n",
    "\n",
    "_, ax = plt.subplots(1, 1, figsize=(2, 2))\n",
    "test_jets.constituents.histplot(\"eta_rel\", ax=ax, fill=False, bins=100, color = 'r', lw=1, stat=\"density\")\n",
    "gen_jets.constituents.histplot(\"eta_rel\", ax=ax, fill=False, bins=100, color = 'k', lw=1,  stat=\"density\")\n",
    "src_jets.constituents.histplot(\"eta_rel\", ax=ax, fill=False, bins=100, color = 'b', lw=1, stat=\"density\")\n",
    "\n",
    "_, ax = plt.subplots(1, 1, figsize=(2, 2))\n",
    "test_jets.constituents.histplot(\"phi_rel\", ax=ax, fill=False, bins=100, color = 'r', lw=1,  stat=\"density\")\n",
    "gen_jets.constituents.histplot(\"phi_rel\", ax=ax, fill=False, bins=100, color = 'k', lw=1,  stat=\"density\")\n",
    "src_jets.constituents.histplot(\"phi_rel\", ax=ax, fill=False, bins=100, color = 'b', lw=1, stat=\"density\")\n",
    "\n",
    "_, ax = plt.subplots(1, 1, figsize=(2, 2))\n",
    "test_jets.histplot(\"pt\", ax=ax, fill=False, bins=20, color = 'r', lw=1, stat=\"density\", binrange=(-10,800))\n",
    "gen_jets.histplot(\"pt\", ax=ax, fill=False, bins=20, color = 'k', lw=1, stat=\"density\", binrange=(-10,800))\n",
    "src_jets.histplot(\"pt\", ax=ax, fill=False, bins=20, color = 'b', lw=1, stat=\"density\", binrange=(-10,800))\n",
    "\n",
    "_, ax = plt.subplots(1, 1, figsize=(2, 2))\n",
    "test_jets.histplot(\"m\", ax=ax, fill=False, bins=20, color = 'r', lw=1, stat=\"density\", binrange=(-10,400))\n",
    "gen_jets.histplot(\"m\", ax=ax, fill=False, bins=20, color = 'k', lw=1, stat=\"density\", binrange=(-10,400))\n",
    "src_jets.histplot(\"m\", ax=ax, fill=False, bins=20, color = 'b', lw=1, stat=\"density\", binrange=(-10,400))\n",
    "\n",
    "\n",
    "_, ax = plt.subplots(1, 1, figsize=(2, 2))\n",
    "test_jets.constituents.histplot(\"multiplicity\", ax=ax, lw=1, color = 'r', fill=False, discrete=True, bins=20)\n",
    "gen_jets.constituents.histplot(\"multiplicity\", ax=ax, lw=1, color = 'k', fill=False, discrete=True, bins=20)\n",
    "src_jets.constituents.histplot(\"multiplicity\", ax=ax, lw=1, color = 'b', fill=False, discrete=True, bins=20 )\n",
    "\n",
    "_, ax = plt.subplots(1, 1, figsize=(3, 2))\n",
    "test_jets.histplot(\"tau32\", ax=ax, lw=1, fill=False, color = 'r', binrange=(0, 1), bins=20)\n",
    "gen_jets.histplot(\"tau32\", ax=ax, lw=1, fill=False, color = 'k', binrange=(0, 1), bins=20)\n",
    "src_jets.histplot(\"tau32\", ax=ax, lw=1, fill=False, color = 'b', binrange=(0, 1), bins=20)\n"
   ]
  },
  {
   "cell_type": "code",
   "execution_count": null,
   "metadata": {},
   "outputs": [],
   "source": [
    "_, ax = plt.subplots(1, 1, figsize=(3, 2))\n",
    "\n",
    "test_jets.histplot(\"numLeptons\", fill=False, ax=ax, lw=1,  color = 'r', discrete=True, binrange=(0, 40),stat=\"density\", )\n",
    "gen_jets.histplot(\"numLeptons\", fill=False, ax=ax, lw=1,  color = 'k', discrete=True, binrange=(0, 40),stat=\"density\", )\n",
    "src_jets.histplot(\"numLeptons\", fill=False, ax=ax, lw=1,  color = 'b', discrete=True, binrange=(0, 40),stat=\"density\", )\n"
   ]
  },
  {
   "cell_type": "code",
   "execution_count": null,
   "metadata": {},
   "outputs": [],
   "source": [
    "_, ax = plt.subplots(1, 1, figsize=(3, 2))\n",
    "\n",
    "src_jets.histplot(\"numHadrons\", fill=False, ax=ax, lw=1,  color = 'b', discrete=True, binrange=(0, 100), stat=\"density\")\n",
    "test_jets.histplot(\"numHadrons\", fill=False, ax=ax, lw=1,  color = 'r', discrete=True, binrange=(0, 100), stat=\"density\", )\n",
    "gen_jets.histplot(\"numHadrons\", fill=False, ax=ax, lw=1,  color = 'k', discrete=True, binrange=(0, 100), stat=\"density\", )\n"
   ]
  },
  {
   "cell_type": "code",
   "execution_count": null,
   "metadata": {},
   "outputs": [],
   "source": [
    "_, ax = plt.subplots(1, 1, figsize=(3, 2))\n",
    "\n",
    "src_jets.histplot(\"numNeutrals\", fill=False, ax=ax, lw=1,  color = 'b', discrete=True, binrange=(0, 60), stat=\"density\", )\n",
    "test_jets.histplot(\"numNeutrals\", fill=False, ax=ax, lw=1,  color = 'r', discrete=True, binrange=(0, 60), stat=\"density\", )\n",
    "gen_jets.histplot(\"numNeutrals\", fill=False, ax=ax, lw=1,  color = 'k', discrete=True, binrange=(0, 60), stat=\"density\", )\n"
   ]
  },
  {
   "cell_type": "code",
   "execution_count": null,
   "metadata": {},
   "outputs": [],
   "source": [
    "_, ax = plt.subplots(1, 1, figsize=(3, 2))\n",
    "\n",
    "test_jets.histplot(\"numCharged\", fill=False, ax=ax, lw=1,  color = 'r', discrete=True, binrange=(0, 80), stat=\"density\", )\n",
    "gen_jets.histplot(\"numCharged\", fill=False, ax=ax, lw=1,  color = 'k', discrete=True, binrange=(0, 80), stat=\"density\", )\n",
    "src_jets.histplot(\"numCharged\", fill=False, ax=ax, lw=1,  color = 'b', discrete=True, binrange=(0,80), stat=\"density\", )\n"
   ]
  },
  {
   "cell_type": "code",
   "execution_count": null,
   "metadata": {},
   "outputs": [],
   "source": [
    "_, ax = plt.subplots(1, 1, figsize=(3, 2))\n",
    "\n",
    "src_jets.histplot(\"numPhotons\", fill=False, ax=ax, lw=1,  color = 'b', discrete=True, binrange=(0,80), stat=\"density\", )\n",
    "test_jets.histplot(\"numPhotons\", fill=False, ax=ax, lw=1,  color = 'r', discrete=True, binrange=(0, 80), stat=\"density\", )\n",
    "gen_jets.histplot(\"numPhotons\", fill=False, ax=ax, lw=1,  color = 'k', discrete=True, binrange=(0, 80), stat=\"density\", )\n"
   ]
  },
  {
   "cell_type": "code",
   "execution_count": null,
   "metadata": {},
   "outputs": [],
   "source": []
  }
 ],
 "metadata": {
  "kernelspec": {
   "display_name": "markov_bridges",
   "language": "python",
   "name": "python3"
  },
  "language_info": {
   "codemirror_mode": {
    "name": "ipython",
    "version": 3
   },
   "file_extension": ".py",
   "mimetype": "text/x-python",
   "name": "python",
   "nbconvert_exporter": "python",
   "pygments_lexer": "ipython3",
   "version": "3.10.9"
  },
  "orig_nbformat": 4
 },
 "nbformat": 4,
 "nbformat_minor": 2
}
