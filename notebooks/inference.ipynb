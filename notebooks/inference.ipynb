{
 "cells": [
  {
   "cell_type": "code",
   "execution_count": 85,
   "id": "c67838f5",
   "metadata": {},
   "outputs": [],
   "source": [
    "import torch\n",
    "from dataclasses import dataclass\n",
    "from typing import List, Union\n",
    "\n",
    "\n",
    "@dataclass\n",
    "class MultiModeState:\n",
    "    \"\"\"time-dependent hybrid state (t, x, k, mask)\"\"\"\n",
    "\n",
    "    time: torch.Tensor = None\n",
    "    continuous: torch.Tensor = None\n",
    "    discrete: torch.Tensor = None\n",
    "    mask: torch.Tensor = None\n",
    "\n",
    "    def __post_init__(self):\n",
    "        self._set_mode_types()\n",
    "        # self._reshape_time(self)\n",
    "\n",
    "    def reshape_time_like(self, state: Union[torch.Tensor, MultiModeState]):\n",
    "        self.time = self.time.reshape(-1, *([1] * (state.ndim - 1)))\n",
    "\n",
    "    def to(self, device: str):\n",
    "        return self._apply_fn(lambda tensor: tensor.to(device))\n",
    "    def detach(self):\n",
    "        return self._apply_fn(lambda tensor: tensor.detach())\n",
    "    def cpu(self):\n",
    "        return self._apply_fn(lambda tensor: tensor.cpu())\n",
    "    def clone(self):\n",
    "        return self._apply_fn(lambda tensor: tensor.clone())\n",
    "\n",
    "    def apply_mask(self):\n",
    "        self.time = self.time * self.mask\n",
    "        self.continuous = self.continuous * self.mask\n",
    "        self.discrete = (self.discrete * self.mask).long()\n",
    "\n",
    "    @property\n",
    "    def ndim(self):\n",
    "        if not len(self.available_modes()):\n",
    "            return 0\n",
    "        return len(getattr(self, self.available_modes()[-1]).shape)\n",
    "\n",
    "    @property\n",
    "    def shape(self):\n",
    "        if self.ndim > 0:\n",
    "            return getattr(self, self.available_modes()[-1]).shape[:-1]\n",
    "        return None\n",
    "\n",
    "    def __len__(self):\n",
    "        if self.ndim > 0:\n",
    "            return len(getattr(self, self.available_modes()[-1]))\n",
    "        return 0\n",
    "        \n",
    "    @staticmethod\n",
    "    def cat(states: List[\"MultiModeState\"], dim=0) -> \"MultiModeState\":\n",
    "        def cat_attr(attr_name):\n",
    "            attrs = [getattr(s, attr_name, None) for s in states]\n",
    "            if all(a is None for a in attrs):\n",
    "                return None\n",
    "            attrs = [a for a in attrs if a is not None]\n",
    "            return torch.cat(attrs, dim=dim)\n",
    "\n",
    "        return MultiModeState(\n",
    "            time=cat_attr(\"time\"),\n",
    "            continuous=cat_attr(\"continuous\"),\n",
    "            discrete=cat_attr(\"discrete\"),\n",
    "            mask=cat_attr(\"mask\"),\n",
    "        )\n",
    "\n",
    "    def available_modes(self,) -> List[str]:\n",
    "        \"\"\"Return a list of non-None modes in the state.\"\"\"\n",
    "        available_modes = []\n",
    "        if self.time is not None:\n",
    "            available_modes.append(\"time\")\n",
    "        if self.continuous is not None:\n",
    "            available_modes.append(\"continuous\")\n",
    "        if self.discrete is not None:\n",
    "            available_modes.append(\"discrete\")\n",
    "        return available_modes\n",
    "\n",
    "    def _apply_fn(self, func):\n",
    "        \"\"\"apply transformation function to all attributes.\"\"\"\n",
    "        return MultiModeState(\n",
    "            time=func(self.time) if isinstance(self.time, torch.Tensor) else None,\n",
    "            continuous=func(self.continuous)\n",
    "            if isinstance(self.continuous, torch.Tensor)\n",
    "            else None,\n",
    "            discrete=func(self.discrete)\n",
    "            if isinstance(self.discrete, torch.Tensor)\n",
    "            else None,\n",
    "            mask=func(self.mask) if isinstance(self.mask, torch.Tensor) else None,\n",
    "        )\n",
    "\n",
    "    def _set_mode_types(self):\n",
    "        if self.time is not None:\n",
    "            self.time = self.time.float()\n",
    "        if self.continuous is not None:\n",
    "            self.continuous = self.continuous.float()\n",
    "        if self.discrete is not None:\n",
    "            self.discrete = self.discrete.long()\n",
    "        if self.mask is not None:\n",
    "            self.mask = self.mask.float()\n"
   ]
  },
  {
   "cell_type": "code",
   "execution_count": 86,
   "id": "cc758cd4",
   "metadata": {},
   "outputs": [
    {
     "name": "stdout",
     "output_type": "stream",
     "text": [
      "[]\n",
      "0\n",
      "None\n",
      "0\n"
     ]
    }
   ],
   "source": [
    "\n",
    "state = MultiModeState()\n",
    "\n",
    "print(state.available_modes())\n",
    "print(state.ndim)\n",
    "print(state.shape)\n",
    "print(len(state))\n",
    "\n"
   ]
  },
  {
   "cell_type": "code",
   "execution_count": 87,
   "id": "e673a0ab",
   "metadata": {},
   "outputs": [],
   "source": [
    "state_ = MultiModeState(\n",
    "\n",
    "time=torch.randn(100, 128, 3),\n",
    "continuous=torch.randn(100, 128, 3),\n",
    "discrete=torch.randint(0, 8, (100, 128, 2)),\n",
    "mask=torch.cat([torch.ones(100, 64, 1), torch.zeros(100, 64, 1)], dim=1), \n",
    ")"
   ]
  },
  {
   "cell_type": "code",
   "execution_count": 88,
   "id": "83c54f38",
   "metadata": {},
   "outputs": [],
   "source": [
    "state = MultiModeState(\n",
    "\n",
    "time=torch.randn(100),\n",
    "continuous=torch.randn(100, 128, 3),\n",
    "discrete=torch.randint(0, 8, (100, 128, 2)),\n",
    "mask=torch.cat([torch.ones(100, 64, 1), torch.zeros(100, 64, 1)], dim=1), \n",
    ")"
   ]
  },
  {
   "cell_type": "code",
   "execution_count": 90,
   "id": "ecba2c67",
   "metadata": {},
   "outputs": [
    {
     "data": {
      "text/plain": [
       "torch.Size([100, 1, 1])"
      ]
     },
     "execution_count": 90,
     "metadata": {},
     "output_type": "execute_result"
    }
   ],
   "source": [
    "state.reshape_time_like(state_)\n",
    "state.time.shape"
   ]
  },
  {
   "cell_type": "code",
   "execution_count": 5,
   "id": "4db3e1e2",
   "metadata": {},
   "outputs": [
    {
     "data": {
      "text/plain": [
       "tensor([0, 1, 2, 3, 4, 5, 6])"
      ]
     },
     "execution_count": 5,
     "metadata": {},
     "output_type": "execute_result"
    }
   ],
   "source": [
    "voc = [8,3]\n",
    "k = []\n",
    "torch.arange(0, 7) "
   ]
  },
  {
   "cell_type": "code",
   "execution_count": 6,
   "id": "0ffb6dc9",
   "metadata": {},
   "outputs": [],
   "source": [
    "x = torch.tensor([[\n",
    "                   [1, 2, 3], \n",
    "                   [4, 5, 6]],\n",
    "\n",
    "                  [[7, 8, 9], \n",
    "                  [10, 11, 12]]\n",
    "                  ])  \n",
    "                  \n",
    "                  # Shape (2, 2, 3)\n",
    "\n",
    "y = torch.tensor([[[2], \n",
    "                   [5]], \n",
    "                  [[8], \n",
    "                   [11]]])  # Shape (2, 2, 1)\n"
   ]
  },
  {
   "cell_type": "code",
   "execution_count": 7,
   "id": "6a509239",
   "metadata": {},
   "outputs": [
    {
     "data": {
      "text/plain": [
       "tensor([[[False,  True, False],\n",
       "         [False,  True, False]],\n",
       "\n",
       "        [[False,  True, False],\n",
       "         [False,  True, False]]])"
      ]
     },
     "execution_count": 7,
     "metadata": {},
     "output_type": "execute_result"
    }
   ],
   "source": [
    "x==y"
   ]
  },
  {
   "cell_type": "code",
   "execution_count": 2,
   "id": "d6b07129",
   "metadata": {},
   "outputs": [
    {
     "name": "stdout",
     "output_type": "stream",
     "text": [
      "tensor([[[0., 1., 2., 3., 4., 5., 6., 7.],\n",
      "         [0., 1., 2., 3., 4., 5., 6., 7.],\n",
      "         [0., 1., 2., 3., 4., 5., 6., 7.],\n",
      "         [0., 1., 2., 3., 4., 5., 6., 7.],\n",
      "         [0., 1., 2., 3., 4., 5., 6., 7.],\n",
      "         [0., 1., 2., 3., 4., 5., 6., 7.]],\n",
      "\n",
      "        [[0., 1., 2., 3., 4., 5., 6., 7.],\n",
      "         [0., 1., 2., 3., 4., 5., 6., 7.],\n",
      "         [0., 1., 2., 3., 4., 5., 6., 7.],\n",
      "         [0., 1., 2., 3., 4., 5., 6., 7.],\n",
      "         [0., 1., 2., 3., 4., 5., 6., 7.],\n",
      "         [0., 1., 2., 3., 4., 5., 6., 7.]],\n",
      "\n",
      "        [[0., 1., 2., 3., 4., 5., 6., 7.],\n",
      "         [0., 1., 2., 3., 4., 5., 6., 7.],\n",
      "         [0., 1., 2., 3., 4., 5., 6., 7.],\n",
      "         [0., 1., 2., 3., 4., 5., 6., 7.],\n",
      "         [0., 1., 2., 3., 4., 5., 6., 7.],\n",
      "         [0., 1., 2., 3., 4., 5., 6., 7.]],\n",
      "\n",
      "        [[0., 1., 2., 3., 4., 5., 6., 7.],\n",
      "         [0., 1., 2., 3., 4., 5., 6., 7.],\n",
      "         [0., 1., 2., 3., 4., 5., 6., 7.],\n",
      "         [0., 1., 2., 3., 4., 5., 6., 7.],\n",
      "         [0., 1., 2., 3., 4., 5., 6., 7.],\n",
      "         [0., 1., 2., 3., 4., 5., 6., 7.]],\n",
      "\n",
      "        [[0., 1., 2., 3., 4., 5., 6., 7.],\n",
      "         [0., 1., 2., 3., 4., 5., 6., 7.],\n",
      "         [0., 1., 2., 3., 4., 5., 6., 7.],\n",
      "         [0., 1., 2., 3., 4., 5., 6., 7.],\n",
      "         [0., 1., 2., 3., 4., 5., 6., 7.],\n",
      "         [0., 1., 2., 3., 4., 5., 6., 7.]]])\n"
     ]
    }
   ],
   "source": [
    "import torch \n",
    "\n",
    "k = torch.tensor([0, 1, 2, 3, 4, 5, 6, 7], dtype=torch.float32)\n",
    "\n",
    "# Add singleton dimensions (unsqueeze) for the two new dimensions\n",
    "# k = k.unsqueeze(0).unsqueeze(0)\n",
    "\n",
    "# Expand along the new dimensions\n",
    "result = k.expand(5, 6, -1)  # Expands to (5, 6, 8)\n",
    "\n",
    "print(result)"
   ]
  },
  {
   "cell_type": "code",
   "execution_count": 96,
   "id": "9d906efb",
   "metadata": {},
   "outputs": [
    {
     "data": {
      "text/plain": [
       "(100, 128, -1)"
      ]
     },
     "execution_count": 96,
     "metadata": {},
     "output_type": "execute_result"
    }
   ],
   "source": [
    "a = (*tuple(state.shape), -1)\n",
    "a"
   ]
  },
  {
   "cell_type": "code",
   "execution_count": 68,
   "id": "8b09810b",
   "metadata": {},
   "outputs": [
    {
     "name": "stdout",
     "output_type": "stream",
     "text": [
      "['time', 'continuous', 'discrete']\n",
      "3\n",
      "torch.Size([100, 128])\n",
      "100\n"
     ]
    }
   ],
   "source": [
    "print(state.available_modes())\n",
    "print(state.ndim)\n",
    "print(state.shape)\n",
    "print(len(state))"
   ]
  },
  {
   "cell_type": "code",
   "execution_count": 69,
   "id": "89a1218e",
   "metadata": {},
   "outputs": [
    {
     "data": {
      "text/plain": [
       "torch.Size([100])"
      ]
     },
     "execution_count": 69,
     "metadata": {},
     "output_type": "execute_result"
    }
   ],
   "source": [
    "state.time.shape"
   ]
  },
  {
   "cell_type": "code",
   "execution_count": 59,
   "id": "6a9bb8f9",
   "metadata": {},
   "outputs": [
    {
     "data": {
      "text/plain": [
       "tensor([[[1.],\n",
       "         [1.],\n",
       "         [1.],\n",
       "         ...,\n",
       "         [0.],\n",
       "         [0.],\n",
       "         [0.]],\n",
       "\n",
       "        [[1.],\n",
       "         [1.],\n",
       "         [1.],\n",
       "         ...,\n",
       "         [0.],\n",
       "         [0.],\n",
       "         [0.]],\n",
       "\n",
       "        [[1.],\n",
       "         [1.],\n",
       "         [1.],\n",
       "         ...,\n",
       "         [0.],\n",
       "         [0.],\n",
       "         [0.]],\n",
       "\n",
       "        ...,\n",
       "\n",
       "        [[1.],\n",
       "         [1.],\n",
       "         [1.],\n",
       "         ...,\n",
       "         [0.],\n",
       "         [0.],\n",
       "         [0.]],\n",
       "\n",
       "        [[1.],\n",
       "         [1.],\n",
       "         [1.],\n",
       "         ...,\n",
       "         [0.],\n",
       "         [0.],\n",
       "         [0.]],\n",
       "\n",
       "        [[1.],\n",
       "         [1.],\n",
       "         [1.],\n",
       "         ...,\n",
       "         [0.],\n",
       "         [0.],\n",
       "         [0.]]])"
      ]
     },
     "execution_count": 59,
     "metadata": {},
     "output_type": "execute_result"
    }
   ],
   "source": [
    "state.mask"
   ]
  },
  {
   "cell_type": "code",
   "execution_count": 61,
   "id": "e3c692c7",
   "metadata": {},
   "outputs": [],
   "source": [
    "state.apply_mask()"
   ]
  },
  {
   "cell_type": "code",
   "execution_count": 62,
   "id": "3a51d9ae",
   "metadata": {},
   "outputs": [
    {
     "data": {
      "text/plain": [
       "tensor([[-1.6418e+00, -1.3978e-02,  4.8699e-01],\n",
       "        [-1.9695e-01, -2.5602e-01, -2.1607e+00],\n",
       "        [ 7.9536e-03, -7.3961e-01,  9.6487e-01],\n",
       "        [-9.6108e-01, -2.2165e+00, -1.3605e+00],\n",
       "        [ 3.6764e-01,  1.7479e+00, -3.6501e-02],\n",
       "        [ 3.2490e-01, -1.0720e-02,  7.8410e-01],\n",
       "        [ 1.4839e-01, -1.6486e-01, -7.4412e-01],\n",
       "        [-5.1665e-02,  1.6175e-02,  1.4235e+00],\n",
       "        [ 1.1597e-02,  6.6513e-01,  4.2468e-01],\n",
       "        [ 1.6826e+00, -6.0148e-01, -1.6948e-01],\n",
       "        [ 4.0913e-01, -2.7351e-01, -8.5302e-02],\n",
       "        [-7.4374e-01,  6.9258e-01,  8.2209e-01],\n",
       "        [ 8.6051e-02,  3.5968e-01,  7.0999e-01],\n",
       "        [ 4.9639e-01,  5.7044e-01, -7.0965e-02],\n",
       "        [-1.5045e+00, -2.7658e-03, -1.7672e-02],\n",
       "        [ 9.5448e-02,  8.6752e-01,  1.1721e+00],\n",
       "        [ 6.3235e-01, -8.2718e-02, -2.4021e+00],\n",
       "        [ 8.3112e-01,  1.4420e+00,  2.0850e-01],\n",
       "        [ 1.9707e+00,  5.8688e-01,  4.2737e-01],\n",
       "        [-1.0123e+00, -7.9161e-01,  6.2866e-01],\n",
       "        [ 3.2591e-01,  1.5481e+00, -2.6890e-01],\n",
       "        [-4.0978e-01,  2.9064e-02, -7.1517e-02],\n",
       "        [-1.2633e+00, -6.0917e-01,  1.1891e+00],\n",
       "        [ 2.1953e-01,  1.1100e+00,  1.2875e-01],\n",
       "        [-2.4018e-01, -1.0684e+00, -1.9346e-01],\n",
       "        [-5.4534e-02,  8.5369e-01,  2.9966e-01],\n",
       "        [-8.9240e-01, -1.9266e-01,  2.5612e-01],\n",
       "        [-1.3336e+00,  1.0780e+00, -1.2289e-01],\n",
       "        [ 5.0785e-02,  7.8297e-01, -3.1517e-01],\n",
       "        [-2.5862e-01, -3.3349e-01,  8.8573e-02],\n",
       "        [ 4.5005e-01,  3.2133e-01, -2.1361e-01],\n",
       "        [ 8.2444e-01, -1.5264e+00,  1.4062e+00],\n",
       "        [ 9.6138e-02,  1.3471e-01,  6.2397e-01],\n",
       "        [-6.4415e-01,  1.3083e+00, -1.1731e+00],\n",
       "        [-1.4830e+00, -1.1362e+00, -1.2289e+00],\n",
       "        [ 1.1279e+00,  9.7418e-01, -9.3633e-01],\n",
       "        [ 2.3115e-02,  4.1247e-01, -2.0007e+00],\n",
       "        [-7.8067e-01,  1.7027e+00,  7.3922e-01],\n",
       "        [ 1.9080e+00, -1.4863e+00,  1.0302e+00],\n",
       "        [-8.8531e-01,  1.1912e+00,  9.5793e-01],\n",
       "        [ 1.5807e+00,  1.2873e+00, -5.3103e-01],\n",
       "        [ 9.0063e-02,  6.5998e-01,  6.8558e-01],\n",
       "        [-5.3583e-01, -5.4277e-01, -1.9197e+00],\n",
       "        [-6.3434e-01, -4.8752e-01,  1.4877e+00],\n",
       "        [ 5.2650e-02, -5.9115e-01,  2.1955e+00],\n",
       "        [-4.6878e-01,  1.1721e+00,  2.0998e-01],\n",
       "        [-1.7504e-01,  5.2066e-01,  4.5043e-01],\n",
       "        [-1.4739e-01,  1.7498e+00,  4.6794e-01],\n",
       "        [-2.2996e-01, -3.3753e-01,  3.1337e+00],\n",
       "        [-3.1378e-01, -8.2721e-01,  1.3847e+00],\n",
       "        [-4.5395e-01,  1.0993e+00,  2.6923e-01],\n",
       "        [ 2.1826e-01, -1.5240e-01, -3.7692e-01],\n",
       "        [ 9.4398e-01,  4.4835e-01, -4.4602e-01],\n",
       "        [ 1.3904e-01, -1.0522e+00,  1.0382e+00],\n",
       "        [ 6.6911e-01,  8.2884e-01,  3.6607e-01],\n",
       "        [-1.3531e+00, -5.1509e-01,  9.4335e-01],\n",
       "        [ 3.1309e-01,  6.7082e-01, -6.3468e-01],\n",
       "        [ 9.3674e-01,  5.7443e-01,  1.2545e+00],\n",
       "        [-4.8392e-01,  2.2787e+00,  1.9588e-01],\n",
       "        [-3.2279e-01, -2.5507e-01,  5.2626e-01],\n",
       "        [ 8.2676e-01,  9.3833e-01, -1.6041e+00],\n",
       "        [-1.9393e-01, -1.1234e+00,  1.2303e+00],\n",
       "        [ 2.8330e-01,  1.7994e+00,  2.5478e-01],\n",
       "        [ 1.3583e+00, -3.1420e-01,  2.7868e-01],\n",
       "        [-0.0000e+00, -0.0000e+00, -0.0000e+00],\n",
       "        [-0.0000e+00, -0.0000e+00, -0.0000e+00],\n",
       "        [ 0.0000e+00,  0.0000e+00,  0.0000e+00],\n",
       "        [ 0.0000e+00, -0.0000e+00, -0.0000e+00],\n",
       "        [ 0.0000e+00,  0.0000e+00,  0.0000e+00],\n",
       "        [-0.0000e+00, -0.0000e+00, -0.0000e+00],\n",
       "        [-0.0000e+00,  0.0000e+00,  0.0000e+00],\n",
       "        [-0.0000e+00, -0.0000e+00, -0.0000e+00],\n",
       "        [-0.0000e+00, -0.0000e+00,  0.0000e+00],\n",
       "        [-0.0000e+00, -0.0000e+00,  0.0000e+00],\n",
       "        [ 0.0000e+00, -0.0000e+00, -0.0000e+00],\n",
       "        [-0.0000e+00,  0.0000e+00, -0.0000e+00],\n",
       "        [ 0.0000e+00, -0.0000e+00,  0.0000e+00],\n",
       "        [ 0.0000e+00,  0.0000e+00,  0.0000e+00],\n",
       "        [ 0.0000e+00, -0.0000e+00,  0.0000e+00],\n",
       "        [-0.0000e+00, -0.0000e+00,  0.0000e+00],\n",
       "        [-0.0000e+00,  0.0000e+00, -0.0000e+00],\n",
       "        [ 0.0000e+00, -0.0000e+00,  0.0000e+00],\n",
       "        [ 0.0000e+00,  0.0000e+00, -0.0000e+00],\n",
       "        [-0.0000e+00, -0.0000e+00,  0.0000e+00],\n",
       "        [ 0.0000e+00,  0.0000e+00,  0.0000e+00],\n",
       "        [-0.0000e+00, -0.0000e+00,  0.0000e+00],\n",
       "        [ 0.0000e+00,  0.0000e+00,  0.0000e+00],\n",
       "        [ 0.0000e+00, -0.0000e+00, -0.0000e+00],\n",
       "        [-0.0000e+00,  0.0000e+00, -0.0000e+00],\n",
       "        [ 0.0000e+00, -0.0000e+00,  0.0000e+00],\n",
       "        [ 0.0000e+00, -0.0000e+00,  0.0000e+00],\n",
       "        [-0.0000e+00,  0.0000e+00,  0.0000e+00],\n",
       "        [ 0.0000e+00,  0.0000e+00, -0.0000e+00],\n",
       "        [-0.0000e+00, -0.0000e+00, -0.0000e+00],\n",
       "        [ 0.0000e+00, -0.0000e+00, -0.0000e+00],\n",
       "        [ 0.0000e+00, -0.0000e+00,  0.0000e+00],\n",
       "        [ 0.0000e+00,  0.0000e+00,  0.0000e+00],\n",
       "        [ 0.0000e+00,  0.0000e+00, -0.0000e+00],\n",
       "        [ 0.0000e+00, -0.0000e+00,  0.0000e+00],\n",
       "        [ 0.0000e+00, -0.0000e+00,  0.0000e+00],\n",
       "        [ 0.0000e+00, -0.0000e+00,  0.0000e+00],\n",
       "        [-0.0000e+00,  0.0000e+00,  0.0000e+00],\n",
       "        [-0.0000e+00,  0.0000e+00, -0.0000e+00],\n",
       "        [-0.0000e+00,  0.0000e+00, -0.0000e+00],\n",
       "        [ 0.0000e+00, -0.0000e+00,  0.0000e+00],\n",
       "        [-0.0000e+00, -0.0000e+00, -0.0000e+00],\n",
       "        [ 0.0000e+00,  0.0000e+00,  0.0000e+00],\n",
       "        [ 0.0000e+00,  0.0000e+00,  0.0000e+00],\n",
       "        [ 0.0000e+00, -0.0000e+00,  0.0000e+00],\n",
       "        [-0.0000e+00,  0.0000e+00,  0.0000e+00],\n",
       "        [-0.0000e+00,  0.0000e+00, -0.0000e+00],\n",
       "        [ 0.0000e+00,  0.0000e+00,  0.0000e+00],\n",
       "        [ 0.0000e+00,  0.0000e+00,  0.0000e+00],\n",
       "        [ 0.0000e+00,  0.0000e+00,  0.0000e+00],\n",
       "        [-0.0000e+00, -0.0000e+00,  0.0000e+00],\n",
       "        [-0.0000e+00, -0.0000e+00,  0.0000e+00],\n",
       "        [-0.0000e+00,  0.0000e+00,  0.0000e+00],\n",
       "        [ 0.0000e+00,  0.0000e+00, -0.0000e+00],\n",
       "        [-0.0000e+00, -0.0000e+00, -0.0000e+00],\n",
       "        [-0.0000e+00,  0.0000e+00, -0.0000e+00],\n",
       "        [-0.0000e+00,  0.0000e+00,  0.0000e+00],\n",
       "        [-0.0000e+00, -0.0000e+00, -0.0000e+00],\n",
       "        [ 0.0000e+00, -0.0000e+00, -0.0000e+00],\n",
       "        [ 0.0000e+00,  0.0000e+00, -0.0000e+00],\n",
       "        [ 0.0000e+00,  0.0000e+00, -0.0000e+00],\n",
       "        [ 0.0000e+00,  0.0000e+00, -0.0000e+00],\n",
       "        [ 0.0000e+00,  0.0000e+00, -0.0000e+00],\n",
       "        [-0.0000e+00,  0.0000e+00,  0.0000e+00]])"
      ]
     },
     "execution_count": 62,
     "metadata": {},
     "output_type": "execute_result"
    }
   ],
   "source": [
    "state.continuous[0]"
   ]
  },
  {
   "cell_type": "code",
   "execution_count": 19,
   "id": "e255fa21",
   "metadata": {},
   "outputs": [
    {
     "name": "stdout",
     "output_type": "stream",
     "text": [
      "['time', 'continuous', 'discrete']\n",
      "3\n",
      "torch.Size([100, 128])\n",
      "100\n"
     ]
    }
   ],
   "source": [
    "print(state.available_modes())\n",
    "print(state.ndim)\n",
    "print(state.shape)\n",
    "print(len(state))"
   ]
  },
  {
   "cell_type": "code",
   "execution_count": null,
   "id": "21dd0210",
   "metadata": {},
   "outputs": [],
   "source": [
    "reshape_time_like"
   ]
  },
  {
   "cell_type": "code",
   "execution_count": null,
   "id": "122d1655",
   "metadata": {},
   "outputs": [],
   "source": []
  }
 ],
 "metadata": {
  "kernelspec": {
   "display_name": "Python 3 (ipykernel)",
   "language": "python",
   "name": "python3"
  },
  "language_info": {
   "codemirror_mode": {
    "name": "ipython",
    "version": 3
   },
   "file_extension": ".py",
   "mimetype": "text/x-python",
   "name": "python",
   "nbconvert_exporter": "python",
   "pygments_lexer": "ipython3",
   "version": "3.10.9"
  }
 },
 "nbformat": 4,
 "nbformat_minor": 5
}
