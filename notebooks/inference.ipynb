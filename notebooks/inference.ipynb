{
 "cells": [
  {
   "cell_type": "code",
   "execution_count": 26,
   "id": "cc758cd4",
   "metadata": {},
   "outputs": [
    {
     "data": {
      "text/plain": [
       "False"
      ]
     },
     "execution_count": 26,
     "metadata": {},
     "output_type": "execute_result"
    }
   ],
   "source": [
    "load_checkpoint= 0\n",
    "experiment_path = 'yyy'\n",
    "\n",
    "bool(load_checkpoint == experiment_path)"
   ]
  },
  {
   "cell_type": "code",
   "execution_count": null,
   "id": "aea380e0",
   "metadata": {},
   "outputs": [],
   "source": [
    "import lightning as L\n",
    "from pathlib import Path\n",
    "from lightning.pytorch.callbacks import RichProgressBar\n",
    "from lightning.pytorch.callbacks.progress.rich_progress import RichProgressBarTheme\n",
    "\n",
    "from multimodal_bridge_matching import MultiModalBridgeMatching\n",
    "from data.particle_clouds.jets import JetDataclass\n",
    "\n",
    "from utils.dataloader import DataloaderModule\n",
    "from utils.callbacks import JetsGenerativeCallback\n",
    "\n",
    "\n",
    "######################################################################################\n",
    "proj_dir = \"/home/df630/Multimodal-Bridges/experiments/results/comet/multimodal-jets\"\n",
    "exp_dir = \"5066786266c44cc893312f0531d6ba93\"\n",
    "ckpt = \"last.ckpt\"\n",
    "######################################################################################\n",
    "\n",
    "bridge = MultiModalBridgeMatching.load_from_checkpoint(Path(proj_dir) / exp_dir / \"checkpoints\" / ckpt)\n",
    "config = bridge.config\n",
    "config.experiment.dir_path = Path(proj_dir) / exp_dir"
   ]
  },
  {
   "cell_type": "code",
   "execution_count": null,
   "id": "5f02e64d",
   "metadata": {},
   "outputs": [],
   "source": [
    "progress_bar = RichProgressBar(theme=RichProgressBarTheme(**config.experiment.progress_bar.to_dict()))\n",
    "generative_callback = JetsGenerativeCallback(config.clone())"
   ]
  },
  {
   "cell_type": "code",
   "execution_count": null,
   "id": "c11e289f",
   "metadata": {},
   "outputs": [],
   "source": [
    "config.data.target.path = \"/home/df630/CMB/data/AOJ/2016H_job9.h5\"\n",
    "config.data.target.delete(\"preprocess\")\n",
    "config.data.target.params.num_jets = 5000\n",
    "config.train.batch_size = 1024\n",
    "config.model.pipeline.num_timesteps = 100\n",
    "config.train.data_split_frac = [0.0, 0.0, 1.0]"
   ]
  },
  {
   "cell_type": "code",
   "execution_count": null,
   "id": "c0c7ea82",
   "metadata": {},
   "outputs": [],
   "source": []
  },
  {
   "cell_type": "code",
   "execution_count": null,
   "id": "e726ad17",
   "metadata": {},
   "outputs": [],
   "source": [
    "# ...prep test data\n",
    "\n",
    "jets = JetDataclass(config=config)\n",
    "jets.preprocess()\n",
    "dataloader = DataloaderModule(config=config, dataclass=jets)\n",
    "\n",
    "# ...lightning model\n",
    "\n",
    "generator = L.Trainer(accelerator=\"gpu\", devices=[0], callbacks=[progress_bar, generative_callback],logger=False,)\n",
    "\n",
    "# ...generate data\n",
    "\n",
    "sample = generator.predict(bridge, dataloaders=dataloader.test)"
   ]
  }
 ],
 "metadata": {
  "kernelspec": {
   "display_name": "Python 3 (ipykernel)",
   "language": "python",
   "name": "python3"
  },
  "language_info": {
   "codemirror_mode": {
    "name": "ipython",
    "version": 3
   },
   "file_extension": ".py",
   "mimetype": "text/x-python",
   "name": "python",
   "nbconvert_exporter": "python",
   "pygments_lexer": "ipython3",
   "version": "3.10.9"
  }
 },
 "nbformat": 4,
 "nbformat_minor": 5
}
