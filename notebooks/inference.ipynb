{
 "cells": [
  {
   "cell_type": "code",
   "execution_count": 1,
   "id": "c67838f5",
   "metadata": {},
   "outputs": [],
   "source": [
    "from data.particle_clouds.jets import JetDataModule\n",
    "from pipeline.configs import ExperimentConfigs\n",
    "\n",
    "config = ExperimentConfigs(\"config.yaml\")\n",
    "raw_jets = JetDataModule(config, preprocess=False)\n",
    "jets = JetDataModule(config)\n"
   ]
  },
  {
   "cell_type": "code",
   "execution_count": 4,
   "id": "709da08b",
   "metadata": {},
   "outputs": [
    {
     "data": {
      "text/plain": [
       "<data.particle_clouds.particles.ParticleClouds at 0x7fe33ee2c3a0>"
      ]
     },
     "execution_count": 4,
     "metadata": {},
     "output_type": "execute_result"
    }
   ],
   "source": [
    "jets.target"
   ]
  },
  {
   "cell_type": "code",
   "execution_count": 2,
   "id": "6d3f4aab",
   "metadata": {},
   "outputs": [
    {
     "name": "stdout",
     "output_type": "stream",
     "text": [
      "\u001b[94m\u001b[1mINFO: \u001b[0m\u001b[00m Setting up datasets for training...\n",
      "\u001b[94m\u001b[1mINFO: \u001b[0m\u001b[00m Setting up datasets for training...\n",
      "\u001b[94m\u001b[1mINFO: \u001b[0m\u001b[00m Preprocessing source/target fit datasets...\n"
     ]
    },
    {
     "name": "stderr",
     "output_type": "stream",
     "text": [
      "/home/df630/Multimodal-Bridges/multimodal_bridges/data/particle_clouds/particles.py:134: UserWarning: To copy construct from a tensor, it is recommended to use sourceTensor.clone().detach() or sourceTensor.clone().detach().requires_grad_(True), rather than torch.tensor(sourceTensor).\n",
      "  self.continuous = (self.continuous - torch.tensor(mean)) / (\n",
      "/home/df630/Multimodal-Bridges/multimodal_bridges/data/particle_clouds/particles.py:135: UserWarning: To copy construct from a tensor, it is recommended to use sourceTensor.clone().detach() or sourceTensor.clone().detach().requires_grad_(True), rather than torch.tensor(sourceTensor).\n",
      "  torch.tensor(std)\n"
     ]
    }
   ],
   "source": [
    "raw_jets.setup(\"fit\")\n",
    "jets.setup(\"fit\")"
   ]
  },
  {
   "cell_type": "code",
   "execution_count": 5,
   "id": "83602c4d",
   "metadata": {},
   "outputs": [
    {
     "name": "stdout",
     "output_type": "stream",
     "text": [
      "0 154312\n",
      "1 38183\n",
      "2 142701\n",
      "3 146611\n",
      "4 665\n",
      "5 742\n",
      "6 471\n",
      "7 542\n"
     ]
    }
   ],
   "source": [
    "def get_flavor_counts(tensor):\n",
    "    mask = tensor.mask_bool\n",
    "    jet_flavors = tensor.discrete[mask]\n",
    "    for i in range(8):\n",
    "        print(i, len(jet_flavors[jet_flavors == i]))\n",
    "\n",
    "\n",
    "get_flavor_counts(jets.target)\n"
   ]
  },
  {
   "cell_type": "code",
   "execution_count": 11,
   "id": "6bbbc5ae",
   "metadata": {},
   "outputs": [
    {
     "data": {
      "text/plain": [
       "tensor([1, 6, 5, 1, 0, 2, 5, 7, 1, 3, 7, 2, 7, 3, 2, 2, 1, 2, 4, 6, 0, 3, 2, 3,\n",
       "        5, 6, 7, 0, 3, 4, 3, 0, 7, 6, 3, 1, 1, 0, 6, 0, 1, 5, 1, 6, 7, 6, 0, 7,\n",
       "        6, 7, 6, 6, 6, 3, 6, 0, 0, 2, 6, 5, 3, 6, 1, 6, 6, 2, 2, 7, 1, 7, 2, 1,\n",
       "        4, 2, 3, 4, 4, 0, 6, 5, 5, 0, 4, 2, 1, 5, 0, 6, 6, 1, 3, 3, 0, 6, 1, 3,\n",
       "        3, 4, 0, 0])"
      ]
     },
     "execution_count": 11,
     "metadata": {},
     "output_type": "execute_result"
    }
   ],
   "source": [
    "import torch\n",
    "\n",
    "torch.randint(0, 8, (100,))"
   ]
  },
  {
   "cell_type": "code",
   "execution_count": null,
   "id": "fc474882",
   "metadata": {},
   "outputs": [],
   "source": []
  },
  {
   "cell_type": "code",
   "execution_count": 7,
   "id": "1af5bf8c",
   "metadata": {},
   "outputs": [
    {
     "name": "stdout",
     "output_type": "stream",
     "text": [
      "0 154307\n",
      "1 38186\n",
      "2 142701\n",
      "3 146613\n",
      "4 665\n",
      "5 742\n",
      "6 471\n",
      "7 542\n"
     ]
    }
   ],
   "source": [
    "def get_one_hot_flavor_counts(tensor):\n",
    "    isPhoton = (tensor.discrete[..., 0] == 1) & (tensor.discrete[..., -1] == 0)\n",
    "    isNeutralHadron = (tensor.discrete[..., 1] == 1) & (tensor.discrete[..., -1] == 0)\n",
    "    isNegativeHadron = (tensor.discrete[..., 2] == 1) & (tensor.discrete[..., -1] == -1)\n",
    "    isPositiveHadron = (tensor.discrete[..., 2] == 1) & (tensor.discrete[..., -1] == 1)\n",
    "    isElectron = (tensor.discrete[..., 3] == 1) & (tensor.discrete[..., -1] == -1)\n",
    "    isPositron = (tensor.discrete[..., 3] == 1) & (tensor.discrete[..., -1] == 1)\n",
    "    isMuon = (tensor.discrete[..., 4] == 1) & (tensor.discrete[..., -1] == -1)\n",
    "    isAntiMuon = (tensor.discrete[..., 4] == 1) & (tensor.discrete[..., -1] == 1)\n",
    "\n",
    "    flavors = {\n",
    "        0: isPhoton,\n",
    "        1: isNeutralHadron,\n",
    "        2: isNegativeHadron,\n",
    "        3: isPositiveHadron,\n",
    "        4: isElectron,\n",
    "        5: isPositron,\n",
    "        6: isMuon,\n",
    "        7: isAntiMuon,\n",
    "    }\n",
    "\n",
    "    for i in range(8):\n",
    "        print(i, tensor.discrete[flavors[i]].shape[0])\n",
    "\n",
    "\n",
    "get_one_hot_flavor_counts(raw_jets.target)"
   ]
  },
  {
   "cell_type": "code",
   "execution_count": 8,
   "id": "60eb4e8b",
   "metadata": {},
   "outputs": [
    {
     "name": "stdout",
     "output_type": "stream",
     "text": [
      "0 96213\n",
      "1 95997\n",
      "2 48320\n",
      "3 48365\n",
      "4 48575\n",
      "5 48441\n",
      "6 48197\n",
      "7 48470\n"
     ]
    }
   ],
   "source": [
    "get_one_hot_flavor_counts(raw_jets.source)"
   ]
  },
  {
   "cell_type": "code",
   "execution_count": 56,
   "id": "69dbb17a",
   "metadata": {},
   "outputs": [
    {
     "data": {
      "text/plain": [
       "<Axes: ylabel='Count'>"
      ]
     },
     "execution_count": 56,
     "metadata": {},
     "output_type": "execute_result"
    },
    {
     "data": {
      "image/png": "[encoded data removed]",
      "text/plain": [
       "<Figure size 640x480 with 1 Axes>"
      ]
     },
     "metadata": {},
     "output_type": "display_data"
    }
   ],
   "source": [
    "from torch.distributions.uniform import Uniform\n",
    "import seaborn as sns\n",
    "\n",
    "low = 0.1  # range of uniform distribution\n",
    "\n",
    "x = Uniform(low, 1 - low).sample((100000,))\n",
    "sns.histplot(x, fill=True, binwidth=0.05, binrange=(low - 0.1, high + 0.1))\n"
   ]
  },
  {
   "cell_type": "code",
   "execution_count": 55,
   "id": "455a8473",
   "metadata": {},
   "outputs": [
    {
     "data": {
      "text/plain": [
       "tensor([0.7417, 0.7380, 0.7873,  ..., 0.6568, 0.8176, 0.6528])"
      ]
     },
     "execution_count": 55,
     "metadata": {},
     "output_type": "execute_result"
    }
   ],
   "source": [
    "x"
   ]
  },
  {
   "cell_type": "code",
   "execution_count": null,
   "id": "144e9263",
   "metadata": {},
   "outputs": [],
   "source": []
  },
  {
   "cell_type": "code",
   "execution_count": null,
   "id": "eddc6442",
   "metadata": {},
   "outputs": [],
   "source": []
  },
  {
   "cell_type": "code",
   "execution_count": 1,
   "id": "d7b22396",
   "metadata": {},
   "outputs": [],
   "source": [
    "import torch\n",
    "from torch.distributions.categorical import Categorical\n",
    "from data.particle_clouds.jets import JetDataModule\n",
    "from pipeline.configs import ExperimentConfigs\n",
    "\n",
    "config = ExperimentConfigs(\"config.yaml\")\n",
    "\n",
    "def aoj_multimodal_noise(shape, config):\n",
    "    \"\"\"\n",
    "    Sample multi-modal random source:\n",
    "    - time: None\n",
    "    - continuous: N(0, 1) for each particle feature\n",
    "    - discrete: random token in [0, vocab_size) for each particle\n",
    "    - mask: number of active particles from a categorical distribution with `categorial_probs`\n",
    "\n",
    "    \"\"\"\n",
    "\n",
    "    num_jets, max_num_particles = shape\n",
    "    vocab_size = config.data.vocab_size\n",
    "    categorial_probs = [\n",
    "        0.0,\n",
    "        0.0,\n",
    "        2.3e-05,\n",
    "        4.2e-05,\n",
    "        4.5e-05,\n",
    "        7.6e-05,\n",
    "        0.000126,\n",
    "        0.000139,\n",
    "        0.000295,\n",
    "        0.000411,\n",
    "        0.000711,\n",
    "        0.001076,\n",
    "        0.001498,\n",
    "        0.002125,\n",
    "        0.002676,\n",
    "        0.003562,\n",
    "        0.004589,\n",
    "        0.005568,\n",
    "        0.006726,\n",
    "        0.00745,\n",
    "        0.008848,\n",
    "        0.009891,\n",
    "        0.010794,\n",
    "        0.011616,\n",
    "        0.012913,\n",
    "        0.014028,\n",
    "        0.014461,\n",
    "        0.01527,\n",
    "        0.016087,\n",
    "        0.017046,\n",
    "        0.017625,\n",
    "        0.018257,\n",
    "        0.018313,\n",
    "        0.018739,\n",
    "        0.019904,\n",
    "        0.01987,\n",
    "        0.020017,\n",
    "        0.020573,\n",
    "        0.020321,\n",
    "        0.020915,\n",
    "        0.021078,\n",
    "        0.021068,\n",
    "        0.021238,\n",
    "        0.021362,\n",
    "        0.021184,\n",
    "        0.020843,\n",
    "        0.021087,\n",
    "        0.020803,\n",
    "        0.020675,\n",
    "        0.02012,\n",
    "        0.019687,\n",
    "        0.019767,\n",
    "        0.019179,\n",
    "        0.018818,\n",
    "        0.018088,\n",
    "        0.017954,\n",
    "        0.017493,\n",
    "        0.01666,\n",
    "        0.015898,\n",
    "        0.015648,\n",
    "        0.015328,\n",
    "        0.014447,\n",
    "        0.013704,\n",
    "        0.0133,\n",
    "        0.012902,\n",
    "        0.011917,\n",
    "        0.011454,\n",
    "        0.010991,\n",
    "        0.010148,\n",
    "        0.009768,\n",
    "        0.009205,\n",
    "        0.008871,\n",
    "        0.008108,\n",
    "        0.007705,\n",
    "        0.007257,\n",
    "        0.006812,\n",
    "        0.006552,\n",
    "        0.005785,\n",
    "        0.005534,\n",
    "        0.004937,\n",
    "        0.004508,\n",
    "        0.004359,\n",
    "        0.003957,\n",
    "        0.003599,\n",
    "        0.003272,\n",
    "        0.003055,\n",
    "        0.002747,\n",
    "        0.002811,\n",
    "        0.002423,\n",
    "        0.002255,\n",
    "        0.001991,\n",
    "        0.001862,\n",
    "        0.001687,\n",
    "        0.001502,\n",
    "        0.001489,\n",
    "        0.001202,\n",
    "        0.001192,\n",
    "        0.001114,\n",
    "        0.0009,\n",
    "        0.000844,\n",
    "        0.000768,\n",
    "        0.000693,\n",
    "        0.000636,\n",
    "        0.000547,\n",
    "        0.000447,\n",
    "        0.000453,\n",
    "        0.000381,\n",
    "        0.000422,\n",
    "        0.000332,\n",
    "        0.000267,\n",
    "        0.000254,\n",
    "        0.000234,\n",
    "        0.000208,\n",
    "        0.000167,\n",
    "        0.000152,\n",
    "        0.000135,\n",
    "        0.000108,\n",
    "        9.5e-05,\n",
    "        0.000117,\n",
    "        9.9e-05,\n",
    "        9.4e-05,\n",
    "        8e-05,\n",
    "        5e-05,\n",
    "        6.3e-05,\n",
    "        2.7e-05,\n",
    "        3.2e-05,\n",
    "        4.9e-05,\n",
    "        4.3e-05,\n",
    "        0.000277,\n",
    "    ]\n",
    "\n",
    "    time = None\n",
    "    continuous = torch.randn((num_jets, max_num_particles, 3))\n",
    "\n",
    "    if vocab_size:\n",
    "        discrete = torch.randint(0, vocab_size, (num_jets, max_num_particles, 1))\n",
    "    else:\n",
    "        discrete = None\n",
    "\n",
    "    if categorial_probs:\n",
    "        cat = Categorical(categorial_probs)\n",
    "        multiplicity = cat.sample((num_jets,))\n",
    "        mask = torch.zeros((num_jets, max_num_particles, 1))\n",
    "        for i, n in enumerate(multiplicity):\n",
    "            mask[i, :n] = 1\n",
    "    else:\n",
    "        mask = torch.ones((num_jets, max_num_particles, 1)).long()\n",
    "\n",
    "    return time, continuous, discrete, mask"
   ]
  },
  {
   "cell_type": "code",
   "execution_count": 2,
   "id": "cad6f08c",
   "metadata": {},
   "outputs": [],
   "source": [
    "from data.dataclasses import MultiModeState\n",
    "from data.particle_clouds.particles import ParticleClouds, MultiModalNoise\n",
    "shape = torch.Size([10, 100])\n",
    "\n",
    "from pipeline.configs import ExperimentConfigs\n",
    "\n",
    "config = ExperimentConfigs(\"config.yaml\")\n"
   ]
  },
  {
   "cell_type": "code",
   "execution_count": 3,
   "id": "0c75fba4",
   "metadata": {},
   "outputs": [],
   "source": [
    "noise_dist = MultiModalNoise(config)"
   ]
  },
  {
   "cell_type": "code",
   "execution_count": 4,
   "id": "299d39ec",
   "metadata": {},
   "outputs": [],
   "source": [
    "sample = MultiModeState.sample_from(noise_dist, shape = (100000,128))\n",
    "noise = ParticleClouds(sample)"
   ]
  },
  {
   "cell_type": "code",
   "execution_count": 5,
   "id": "55c4a07a",
   "metadata": {},
   "outputs": [
    {
     "data": {
      "text/plain": [
       "<data.particle_clouds.particles.ParticleClouds at 0x7f8f4218e8c0>"
      ]
     },
     "execution_count": 5,
     "metadata": {},
     "output_type": "execute_result"
    }
   ],
   "source": [
    "noise"
   ]
  },
  {
   "cell_type": "code",
   "execution_count": 6,
   "id": "3783fe04",
   "metadata": {},
   "outputs": [
    {
     "data": {
      "image/png": "[encoded data removed]",
      "text/plain": [
       "<Figure size 300x300 with 1 Axes>"
      ]
     },
     "metadata": {},
     "output_type": "display_data"
    },
    {
     "data": {
      "image/png": "[encoded data removed]",
      "text/plain": [
       "<Figure size 300x300 with 1 Axes>"
      ]
     },
     "metadata": {},
     "output_type": "display_data"
    },
    {
     "data": {
      "image/png": "[encoded data removed]",
      "text/plain": [
       "<Figure size 300x300 with 1 Axes>"
      ]
     },
     "metadata": {},
     "output_type": "display_data"
    }
   ],
   "source": [
    "import seaborn as sns\n",
    "\n",
    "noise.histplot(\"pt\", fill=True, binwidth=0.1),\n",
    "noise.histplot(\"eta_rel\", fill=True, binwidth=0.1),\n",
    "noise.histplot(\"phi_rel\", fill=True, binwidth=0.1)"
   ]
  },
  {
   "cell_type": "code",
   "execution_count": 8,
   "id": "239123cc",
   "metadata": {},
   "outputs": [
    {
     "data": {
      "text/plain": [
       "<Axes: ylabel='Density'>"
      ]
     },
     "execution_count": 8,
     "metadata": {},
     "output_type": "execute_result"
    },
    {
     "data": {
      "image/png": "[encoded data removed]",
      "text/plain": [
       "<Figure size 640x480 with 1 Axes>"
      ]
     },
     "metadata": {},
     "output_type": "display_data"
    }
   ],
   "source": [
    "sns.histplot(noise.multiplicity, fill=True, binwidth=(0,128), discrete=True, stat=\"density\")"
   ]
  },
  {
   "cell_type": "code",
   "execution_count": 9,
   "id": "06ed0224",
   "metadata": {},
   "outputs": [
    {
     "data": {
      "text/plain": [
       "(8626581, 597373, 596146, 596158, 595728, 594826, 596973, 596215)"
      ]
     },
     "execution_count": 9,
     "metadata": {},
     "output_type": "execute_result"
    }
   ],
   "source": [
    "(len(noise.discrete[noise.discrete==0]),len(noise.discrete[noise.discrete==1]), len(noise.discrete[noise.discrete==2]), len(noise.discrete[noise.discrete==3]),\n",
    "len(noise.discrete[noise.discrete==4]),len(noise.discrete[noise.discrete==5]), len(noise.discrete[noise.discrete==6]), len(noise.discrete[noise.discrete==7])"
   ]
  },
  {
   "cell_type": "code",
   "execution_count": 10,
   "id": "706622e0",
   "metadata": {},
   "outputs": [
    {
     "data": {
      "text/plain": [
       "tensor([[[5],\n",
       "         [7],\n",
       "         [3],\n",
       "         ...,\n",
       "         [0],\n",
       "         [0],\n",
       "         [0]],\n",
       "\n",
       "        [[0],\n",
       "         [4],\n",
       "         [6],\n",
       "         ...,\n",
       "         [0],\n",
       "         [0],\n",
       "         [0]],\n",
       "\n",
       "        [[1],\n",
       "         [6],\n",
       "         [4],\n",
       "         ...,\n",
       "         [0],\n",
       "         [0],\n",
       "         [0]],\n",
       "\n",
       "        ...,\n",
       "\n",
       "        [[3],\n",
       "         [3],\n",
       "         [4],\n",
       "         ...,\n",
       "         [0],\n",
       "         [0],\n",
       "         [0]],\n",
       "\n",
       "        [[5],\n",
       "         [6],\n",
       "         [2],\n",
       "         ...,\n",
       "         [0],\n",
       "         [0],\n",
       "         [0]],\n",
       "\n",
       "        [[0],\n",
       "         [2],\n",
       "         [3],\n",
       "         ...,\n",
       "         [0],\n",
       "         [0],\n",
       "         [0]]])"
      ]
     },
     "execution_count": 10,
     "metadata": {},
     "output_type": "execute_result"
    }
   ],
   "source": [
    "noise.discrete"
   ]
  },
  {
   "cell_type": "code",
   "execution_count": null,
   "id": "2abfd590",
   "metadata": {},
   "outputs": [],
   "source": []
  }
 ],
 "metadata": {
  "kernelspec": {
   "display_name": "Python 3 (ipykernel)",
   "language": "python",
   "name": "python3"
  },
  "language_info": {
   "codemirror_mode": {
    "name": "ipython",
    "version": 3
   },
   "file_extension": ".py",
   "mimetype": "text/x-python",
   "name": "python",
   "nbconvert_exporter": "python",
   "pygments_lexer": "ipython3",
   "version": "3.10.9"
  }
 },
 "nbformat": 4,
 "nbformat_minor": 5
}
