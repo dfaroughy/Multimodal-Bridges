{
 "cells": [
  {
   "cell_type": "code",
   "execution_count": 2,
   "id": "c67838f5",
   "metadata": {},
   "outputs": [],
   "source": [
    "from data.particle_clouds.jets import JetDataModule\n",
    "from pipeline.configs import ExperimentConfigs\n",
    "\n",
    "config = ExperimentConfigs('config.yaml')\n",
    "raw_jets = JetDataModule(config, preprocess=False)\n",
    "jets = JetDataModule(config)\n"
   ]
  },
  {
   "cell_type": "code",
   "execution_count": 3,
   "id": "6d3f4aab",
   "metadata": {},
   "outputs": [
    {
     "name": "stdout",
     "output_type": "stream",
     "text": [
      "\u001b[94m\u001b[1mINFO: \u001b[0m\u001b[00m Setting up datasets for training...\n",
      "\u001b[94m\u001b[1mINFO: \u001b[0m\u001b[00m Setting up datasets for training...\n",
      "\u001b[94m\u001b[1mINFO: \u001b[0m\u001b[00m Preprocessing source/target fit datasets...\n"
     ]
    },
    {
     "name": "stderr",
     "output_type": "stream",
     "text": [
      "/home/df630/Multimodal-Bridges/multimodal_bridges/data/particle_clouds/particles.py:133: UserWarning: To copy construct from a tensor, it is recommended to use sourceTensor.clone().detach() or sourceTensor.clone().detach().requires_grad_(True), rather than torch.tensor(sourceTensor).\n",
      "  self.continuous = (self.continuous - torch.tensor(mean)) / (\n",
      "/home/df630/Multimodal-Bridges/multimodal_bridges/data/particle_clouds/particles.py:134: UserWarning: To copy construct from a tensor, it is recommended to use sourceTensor.clone().detach() or sourceTensor.clone().detach().requires_grad_(True), rather than torch.tensor(sourceTensor).\n",
      "  torch.tensor(std)\n"
     ]
    }
   ],
   "source": [
    "raw_jets.setup('fit')\n",
    "jets.setup('fit')"
   ]
  },
  {
   "cell_type": "code",
   "execution_count": 36,
   "id": "83602c4d",
   "metadata": {},
   "outputs": [
    {
     "name": "stdout",
     "output_type": "stream",
     "text": [
      "0 154312\n",
      "1 38183\n",
      "2 142701\n",
      "3 146611\n",
      "4 665\n",
      "5 742\n",
      "6 471\n",
      "7 542\n"
     ]
    }
   ],
   "source": [
    "\n",
    "def get_flavor_counts(tensor):\n",
    "    mask = tensor.mask_bool\n",
    "    jet_flavors = tensor.discrete[mask]\n",
    "    for i in range(8):\n",
    "        print(i, len(jet_flavors[jet_flavors==i]))\n",
    "\n",
    "get_flavor_counts(jets.target)\n"
   ]
  },
  {
   "cell_type": "code",
   "execution_count": 40,
   "id": "1af5bf8c",
   "metadata": {},
   "outputs": [
    {
     "name": "stdout",
     "output_type": "stream",
     "text": [
      "0 154307\n",
      "1 38186\n",
      "2 142701\n",
      "3 146613\n",
      "4 665\n",
      "5 742\n",
      "6 471\n",
      "7 542\n"
     ]
    }
   ],
   "source": [
    "def get_one_hot_flavor_counts(tensor):\n",
    "    isPhoton = (tensor.discrete[..., 0] == 1) & (tensor.discrete[..., -1] == 0) \n",
    "    isNeutralHadron = (tensor.discrete[..., 1] == 1) & (tensor.discrete[..., -1] == 0) \n",
    "    isNegativeHadron = (tensor.discrete[..., 2] == 1) & (tensor.discrete[..., -1] == -1) \n",
    "    isPositiveHadron = (tensor.discrete[..., 2] == 1) & (tensor.discrete[..., -1] == 1) \n",
    "    isElectron = (tensor.discrete[..., 3] == 1) & (tensor.discrete[..., -1] == -1) \n",
    "    isPositron = (tensor.discrete[..., 3] == 1) & (tensor.discrete[..., -1] == 1) \n",
    "    isMuon = (tensor.discrete[..., 4] == 1) & (tensor.discrete[..., -1] == -1) \n",
    "    isAntiMuon = (tensor.discrete[..., 4] == 1) & (tensor.discrete[..., -1] == 1) \n",
    "\n",
    "    flavors = {0:isPhoton, 1:isNeutralHadron, 2:isNegativeHadron, 3:isPositiveHadron, 4:isElectron, 5:isPositron, 6:isMuon, 7:isAntiMuon}\n",
    "\n",
    "    for i in range(8):\n",
    "        print(i, tensor.discrete[flavors[i]].shape[0])\n",
    "\n",
    "get_one_hot_flavor_counts(raw_jets.target)"
   ]
  },
  {
   "cell_type": "code",
   "execution_count": 56,
   "id": "69dbb17a",
   "metadata": {},
   "outputs": [
    {
     "data": {
      "text/plain": [
       "<Axes: ylabel='Count'>"
      ]
     },
     "execution_count": 56,
     "metadata": {},
     "output_type": "execute_result"
    },
    {
     "data": {
      "image/png": "[encoded data removed]",
      "text/plain": [
       "<Figure size 640x480 with 1 Axes>"
      ]
     },
     "metadata": {},
     "output_type": "display_data"
    }
   ],
   "source": [
    "from torch.distributions.uniform import Uniform\n",
    "import seaborn as sns\n",
    "low =0.1 #range of uniform distribution\n",
    "\n",
    "x = Uniform(low, 1- low).sample((100000,))\n",
    "sns.histplot(x, fill=True, binwidth=0.05, binrange=(low-0.1, high+0.1))\n"
   ]
  },
  {
   "cell_type": "code",
   "execution_count": 55,
   "id": "455a8473",
   "metadata": {},
   "outputs": [
    {
     "data": {
      "text/plain": [
       "tensor([0.7417, 0.7380, 0.7873,  ..., 0.6568, 0.8176, 0.6528])"
      ]
     },
     "execution_count": 55,
     "metadata": {},
     "output_type": "execute_result"
    }
   ],
   "source": [
    "x"
   ]
  },
  {
   "cell_type": "code",
   "execution_count": null,
   "id": "144e9263",
   "metadata": {},
   "outputs": [],
   "source": []
  },
  {
   "cell_type": "code",
   "execution_count": null,
   "id": "eddc6442",
   "metadata": {},
   "outputs": [],
   "source": []
  },
  {
   "cell_type": "code",
   "execution_count": null,
   "id": "d7b22396",
   "metadata": {},
   "outputs": [],
   "source": []
  },
  {
   "cell_type": "code",
   "execution_count": null,
   "id": "cad6f08c",
   "metadata": {},
   "outputs": [],
   "source": []
  },
  {
   "cell_type": "code",
   "execution_count": null,
   "id": "299d39ec",
   "metadata": {},
   "outputs": [],
   "source": []
  },
  {
   "cell_type": "code",
   "execution_count": null,
   "id": "3783fe04",
   "metadata": {},
   "outputs": [],
   "source": []
  }
 ],
 "metadata": {
  "kernelspec": {
   "display_name": "Python 3 (ipykernel)",
   "language": "python",
   "name": "python3"
  },
  "language_info": {
   "codemirror_mode": {
    "name": "ipython",
    "version": 3
   },
   "file_extension": ".py",
   "mimetype": "text/x-python",
   "name": "python",
   "nbconvert_exporter": "python",
   "pygments_lexer": "ipython3",
   "version": "3.10.9"
  }
 },
 "nbformat": 4,
 "nbformat_minor": 5
}
